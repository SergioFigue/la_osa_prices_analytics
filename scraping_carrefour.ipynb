{
 "cells": [
  {
   "cell_type": "markdown",
   "metadata": {},
   "source": [
    "# Scraping Carrefour"
   ]
  },
  {
   "cell_type": "code",
   "execution_count": 1,
   "metadata": {},
   "outputs": [],
   "source": [
    "import pandas as pd\n",
    "import requests\n",
    "from bs4 import BeautifulSoup\n",
    "import re\n",
    "import time"
   ]
  },
  {
   "cell_type": "markdown",
   "metadata": {},
   "source": [
    "## Scraping product prices"
   ]
  },
  {
   "cell_type": "code",
   "execution_count": 2,
   "metadata": {},
   "outputs": [],
   "source": [
    "HEADER = {'Accept': 'text/html,application/xhtml+xml,application/xml;q=0.9,image/webp,image/apng,*/*;q=0.8,application/signed-exchange;v=b3;q=0.9',\n",
    "           'Accept-Encoding': 'gzip, deflate',\n",
    "           'Accept-Language': 'en-GB,en-US;q=0.9,en;q=0.8',\n",
    "           'Dnt': '1',\n",
    "           'Host': 'httpbin.org',\n",
    "           'Upgrade-Insecure-Requests': '1',\n",
    "           'User-Agent': 'Mozilla/5.0 (X11; Linux x86_64) AppleWebKit/537.36 (KHTML, like Gecko) Chrome/44.0.2403.157 Safari/537.36'}"
   ]
  },
  {
   "cell_type": "code",
   "execution_count": 2,
   "metadata": {},
   "outputs": [
    {
     "ename": "AttributeError",
     "evalue": "'NoneType' object has no attribute 'text'",
     "output_type": "error",
     "traceback": [
      "\u001b[0;31m---------------------------------------------------------------------------\u001b[0m",
      "\u001b[0;31mAttributeError\u001b[0m                            Traceback (most recent call last)",
      "\u001b[0;32m<ipython-input-2-a9f11957d87a>\u001b[0m in \u001b[0;36m<module>\u001b[0;34m\u001b[0m\n\u001b[1;32m      3\u001b[0m \u001b[0mhtml\u001b[0m \u001b[0;34m=\u001b[0m \u001b[0mrequests\u001b[0m\u001b[0;34m.\u001b[0m\u001b[0mget\u001b[0m\u001b[0;34m(\u001b[0m\u001b[0murl_carr_tomate\u001b[0m\u001b[0;34m)\u001b[0m\u001b[0;34m.\u001b[0m\u001b[0mtext\u001b[0m\u001b[0;34m\u001b[0m\u001b[0;34m\u001b[0m\u001b[0m\n\u001b[1;32m      4\u001b[0m \u001b[0msoup_carrefour\u001b[0m \u001b[0;34m=\u001b[0m \u001b[0mBeautifulSoup\u001b[0m\u001b[0;34m(\u001b[0m\u001b[0mhtml\u001b[0m\u001b[0;34m,\u001b[0m \u001b[0;34m'lxml'\u001b[0m\u001b[0;34m)\u001b[0m\u001b[0;34m\u001b[0m\u001b[0;34m\u001b[0m\u001b[0m\n\u001b[0;32m----> 5\u001b[0;31m \u001b[0mprice_carr_tomate\u001b[0m \u001b[0;34m=\u001b[0m \u001b[0msoup_carrefour\u001b[0m\u001b[0;34m.\u001b[0m\u001b[0mfind\u001b[0m\u001b[0;34m(\u001b[0m\u001b[0;34m(\u001b[0m\u001b[0;34m'div'\u001b[0m\u001b[0;34m)\u001b[0m\u001b[0;34m,\u001b[0m\u001b[0;34m{\u001b[0m\u001b[0;34m'class'\u001b[0m\u001b[0;34m:\u001b[0m \u001b[0;34m'buybox__price-per-unit'\u001b[0m\u001b[0;34m}\u001b[0m\u001b[0;34m)\u001b[0m\u001b[0;34m.\u001b[0m\u001b[0mtext\u001b[0m\u001b[0;34m.\u001b[0m\u001b[0mstrip\u001b[0m\u001b[0;34m(\u001b[0m\u001b[0;34m)\u001b[0m\u001b[0;34m.\u001b[0m\u001b[0mreplace\u001b[0m\u001b[0;34m(\u001b[0m\u001b[0;34m','\u001b[0m\u001b[0;34m,\u001b[0m\u001b[0;34m'.'\u001b[0m\u001b[0;34m)\u001b[0m\u001b[0;34m\u001b[0m\u001b[0;34m\u001b[0m\u001b[0m\n\u001b[0m",
      "\u001b[0;31mAttributeError\u001b[0m: 'NoneType' object has no attribute 'text'"
     ]
    }
   ],
   "source": [
    "# Tomate en rama o ensalada 101\n",
    "url_carr_tomate = f'https://www.carrefour.es/supermercado/tomate-rama-ecologico-carrefour-bio-500-g-carrefour-bio/R-600709258/p?ic_source=food&ic_medium=undefined&ic_content=cat20002-productos-frescos'\n",
    "html = requests.get(url_carr_tomate).text\n",
    "soup_carrefour = BeautifulSoup(html, 'lxml')\n",
    "price_carr_tomate = soup_carrefour.find(('div'),{'class': 'buybox__price-per-unit'}).text.strip().replace(',','.')"
   ]
  },
  {
   "cell_type": "code",
   "execution_count": 15,
   "metadata": {},
   "outputs": [
    {
     "name": "stdout",
     "output_type": "stream",
     "text": [
      "3.96 -- €/kg\n"
     ]
    }
   ],
   "source": [
    "precio = price_carr_tomate.split()[0]\n",
    "unidad = price_carr_tomate.split()[-1]\n",
    "print(precio, '--', unidad)"
   ]
  },
  {
   "cell_type": "code",
   "execution_count": 8,
   "metadata": {},
   "outputs": [
    {
     "name": "stdout",
     "output_type": "stream",
     "text": [
      "2.79 -- €/kg\n"
     ]
    }
   ],
   "source": [
    "# Plátano canario 102\n",
    "url_carr_platano = f'https://www.carrefour.es/supermercado/platano-ecologico-carrefour-bio-1-kg-aprox-carrefour-bio/R-fprod1320276/p?ic_source=food&ic_medium=undefined&ic_content=cat20002-productos-frescos'\n",
    "html = requests.get(url_carr_platano).text\n",
    "soup_carrefour = BeautifulSoup(html, 'lxml')\n",
    "price_carr_platano = soup_carrefour.find(('div'),{'class': 'buybox__price-per-unit'}).text.strip().replace(',','.')\n",
    "precio = price_carr_platano.split()[0]\n",
    "unidad = price_carr_platano.split()[-1]\n",
    "print(precio, '--', unidad)"
   ]
  },
  {
   "cell_type": "code",
   "execution_count": 7,
   "metadata": {},
   "outputs": [
    {
     "name": "stdout",
     "output_type": "stream",
     "text": [
      "3.00 -- €/kg\n"
     ]
    }
   ],
   "source": [
    "# Manzana royal gala o roja 103\n",
    "url_carr_manzana = f'https://www.carrefour.es/supermercado/manzana-royal-gala-ecologica-bandeja-4-ud-600-g-carrefour-bio/R-600709190/p?ic_source=food&ic_medium=undefined&ic_content=cat20002-productos-frescos'\n",
    "html = requests.get(url_carr_manzana).text\n",
    "soup_carrefour = BeautifulSoup(html, 'lxml')\n",
    "price_carr_manzana = soup_carrefour.find(('div'),{'class': 'buybox__price-per-unit'}).text.strip().replace(',','.')\n",
    "precio = price_carr_manzana.split()[0]\n",
    "unidad = price_carr_manzana.split()[-1]\n",
    "print(precio, '--', unidad)"
   ]
  },
  {
   "cell_type": "code",
   "execution_count": 6,
   "metadata": {},
   "outputs": [
    {
     "name": "stdout",
     "output_type": "stream",
     "text": [
      "2.78 -- €/kg\n"
     ]
    }
   ],
   "source": [
    "# Calabacín 104\n",
    "url_carr_calabacin = f'https://www.carrefour.es/supermercado/calabacin-ecologico-carrefour-bio-500-g-carrefour-bio/R-600709114/p?ic_source=food&ic_medium=undefined&ic_content=cat20002-productos-frescos'\n",
    "html = requests.get(url_carr_calabacin).text\n",
    "soup_carrefour = BeautifulSoup(html, 'lxml')\n",
    "price_carr_calabacin = soup_carrefour.find(('div'),{'class': 'buybox__price-per-unit'}).text.strip().replace(',','.')\n",
    "precio = price_carr_calabacin.split()[0]\n",
    "unidad = price_carr_calabacin.split()[-1]\n",
    "print(precio, '--', unidad)"
   ]
  },
  {
   "cell_type": "code",
   "execution_count": 12,
   "metadata": {},
   "outputs": [
    {
     "name": "stdout",
     "output_type": "stream",
     "text": [
      "2.27 -- €/kg\n"
     ]
    }
   ],
   "source": [
    "# Zanahoria 105\n",
    "url_carr_zanahoria = f'https://www.carrefour.es/supermercado/zanahoria-ecologica-carrefour-bio-750-g-carrefour-bio/R-prod1070419/p?ic_source=food&ic_medium=undefined&ic_content=cat20002-productos-frescos'\n",
    "html = requests.get(url_carr_zanahoria).text\n",
    "soup_carrefour = BeautifulSoup(html, 'lxml')\n",
    "price_carr_zanahoria = soup_carrefour.find(('div'),{'class': 'buybox__price-per-unit'}).text.strip().replace(',','.')\n",
    "precio = price_carr_zanahoria.split()[0]\n",
    "unidad = price_carr_zanahoria.split()[-1]\n",
    "print(precio, '--', unidad)"
   ]
  },
  {
   "cell_type": "code",
   "execution_count": 54,
   "metadata": {},
   "outputs": [
    {
     "name": "stdout",
     "output_type": "stream",
     "text": [
      "1.64 -- €/kg\n"
     ]
    }
   ],
   "source": [
    "# Patata blanca 106\n",
    "url_carr_patata = f'https://www.carrefour.es/supermercado/patata-ecologica-carrefour-bio-2-kg-carrefour-bio/R-600709102/p?ic_source=food&ic_medium=undefined&ic_content=cat20002-productos-frescos'\n",
    "html = requests.get(url_carr_patata).text\n",
    "soup_carrefour = BeautifulSoup(html, 'lxml')\n",
    "price_carr_patata = soup_carrefour.find(('div'),{'class': 'buybox__price-per-unit'}).text.strip().replace(',','.')\n",
    "precio = price_carr_patata.split()[0]\n",
    "unidad = price_carr_patata.split()[-1]\n",
    "print(precio, '--', unidad)"
   ]
  },
  {
   "cell_type": "code",
   "execution_count": null,
   "metadata": {},
   "outputs": [],
   "source": []
  },
  {
   "cell_type": "code",
   "execution_count": null,
   "metadata": {},
   "outputs": [],
   "source": [
    "# Pasar a funcion con bucle for por url y varios if para determinar código y nombre de producto + añadir timestamp"
   ]
  },
  {
   "cell_type": "code",
   "execution_count": 3,
   "metadata": {},
   "outputs": [],
   "source": [
    "carrefour_url_dict = {101: f'https://www.carrefour.es/supermercado/tomate-rama-ecologico-carrefour-bio-500-g-carrefour-bio/R-600709258/p?ic_source=food&ic_medium=undefined&ic_content=cat20002-productos-frescos',\n",
    "                      102: f'https://www.carrefour.es/supermercado/platano-ecologico-carrefour-bio-1-kg-aprox-carrefour-bio/R-fprod1320276/p?ic_source=food&ic_medium=undefined&ic_content=cat20002-productos-frescos',\n",
    "                      103: f'https://www.carrefour.es/supermercado/manzana-royal-gala-ecologica-bandeja-4-ud-600-g-carrefour-bio/R-600709190/p?ic_source=food&ic_medium=undefined&ic_content=cat20002-productos-frescos',\n",
    "                      104: f'https://www.carrefour.es/supermercado/calabacin-ecologico-carrefour-bio-500-g-carrefour-bio/R-600709114/p?ic_source=food&ic_medium=undefined&ic_content=cat20002-productos-frescos',\n",
    "                      105: f'https://www.carrefour.es/supermercado/zanahoria-ecologica-carrefour-bio-750-g-carrefour-bio/R-prod1070419/p?ic_source=food&ic_medium=undefined&ic_content=cat20002-productos-frescos',\n",
    "                      106: f'https://www.carrefour.es/supermercado/patata-ecologica-carrefour-bio-2-kg-carrefour-bio/R-600709102/p?ic_source=food&ic_medium=undefined&ic_content=cat20002-productos-frescos',\n",
    "                      304: f'https://www.carrefour.es/supermercado/bizcocho-marmol-con-chocolate-ecologico-la-granja-300-g/R-VC4AECOMM-491615/p?ic_source=food&ic_medium=undefined&ic_content=cat20002-productos-frescos',\n",
    "                      501: f'https://www.carrefour.es/supermercado/chocolate-negro-75-ecologico-ethiquable-100-g-ethiquable/R-fprod1450021/p?ic_source=portal-y-corporativo&ic_medium=search-empathy&ic_content=ns',\n",
    "                      602: f'https://www.carrefour.es/supermercado/bacon-lonchas-ecologico-biobardales-100-g-biobardales/R-590205589/p?ic_source=portal-y-corporativo&ic_medium=search-empathy&ic_content=ns',\n",
    "                      702: f'https://www.carrefour.es/supermercado/bebida-de-avena-con-calcio-ecologica-soria-natural-brik-1-l-soria-natural/R-701717697/p',\n",
    "                      703: f'https://www.carrefour.es/supermercado/bebida-de-avena-sin-azucar-anadido-yosoy-brik-1-l-yosoy/R-804323938/p',\n",
    "                      704: f'https://www.carrefour.es/supermercado/yogur-con-vainilla-ecologico-casa-grande-de-xanceda-pack-de-2-unidades-de-125-g-casa-grande-de-xanceda/R-590206249/p',\n",
    "                      705: f'https://www.carrefour.es/supermercado/leche-semidesnatada-ecologica-puleva-brik-1-l-puleva/R-625735708/p',\n",
    "                      706: f'https://www.carrefour.es/supermercado/leche-entera-ecologica-cantero-de-letur-1-l-cantero-de-letur/R-fprod1250295/p',\n",
    "                      707: f'https://www.carrefour.es/supermercado/kefir-de-cabra-ecologico-cantero-de-letur-420-g-cantero-de-letur/R-prod410336/p',\n",
    "                      1101: f'https://www.carrefour.es/supermercado/cafe-molido-natural-tierra-madre-oxfam-intermon-250-g-oxfam-intermon/R-526510893/p',\n",
    "                      1201: f'https://www.carrefour.es/supermercado/cerveza-mahou-clasica-lata-33-cl-mahou-clasica/R-520661319/p'}\n"
   ]
  },
  {
   "cell_type": "code",
   "execution_count": 4,
   "metadata": {},
   "outputs": [
    {
     "name": "stdout",
     "output_type": "stream",
     "text": [
      "101 -- https://www.carrefour.es/supermercado/tomate-rama-ecologico-carrefour-bio-500-g-carrefour-bio/R-600709258/p?ic_source=food&ic_medium=undefined&ic_content=cat20002-productos-frescos\n",
      "102 -- https://www.carrefour.es/supermercado/platano-ecologico-carrefour-bio-1-kg-aprox-carrefour-bio/R-fprod1320276/p?ic_source=food&ic_medium=undefined&ic_content=cat20002-productos-frescos\n",
      "103 -- https://www.carrefour.es/supermercado/manzana-royal-gala-ecologica-bandeja-4-ud-600-g-carrefour-bio/R-600709190/p?ic_source=food&ic_medium=undefined&ic_content=cat20002-productos-frescos\n",
      "104 -- https://www.carrefour.es/supermercado/calabacin-ecologico-carrefour-bio-500-g-carrefour-bio/R-600709114/p?ic_source=food&ic_medium=undefined&ic_content=cat20002-productos-frescos\n",
      "105 -- https://www.carrefour.es/supermercado/zanahoria-ecologica-carrefour-bio-750-g-carrefour-bio/R-prod1070419/p?ic_source=food&ic_medium=undefined&ic_content=cat20002-productos-frescos\n",
      "106 -- https://www.carrefour.es/supermercado/patata-ecologica-carrefour-bio-2-kg-carrefour-bio/R-600709102/p?ic_source=food&ic_medium=undefined&ic_content=cat20002-productos-frescos\n",
      "304 -- https://www.carrefour.es/supermercado/bizcocho-marmol-con-chocolate-ecologico-la-granja-300-g/R-VC4AECOMM-491615/p?ic_source=food&ic_medium=undefined&ic_content=cat20002-productos-frescos\n",
      "501 -- https://www.carrefour.es/supermercado/chocolate-negro-75-ecologico-ethiquable-100-g-ethiquable/R-fprod1450021/p?ic_source=portal-y-corporativo&ic_medium=search-empathy&ic_content=ns\n",
      "602 -- https://www.carrefour.es/supermercado/bacon-lonchas-ecologico-biobardales-100-g-biobardales/R-590205589/p?ic_source=portal-y-corporativo&ic_medium=search-empathy&ic_content=ns\n",
      "702 -- https://www.carrefour.es/supermercado/bebida-de-avena-con-calcio-ecologica-soria-natural-brik-1-l-soria-natural/R-701717697/p\n",
      "703 -- https://www.carrefour.es/supermercado/bebida-de-avena-sin-azucar-anadido-yosoy-brik-1-l-yosoy/R-804323938/p\n",
      "704 -- https://www.carrefour.es/supermercado/yogur-con-vainilla-ecologico-casa-grande-de-xanceda-pack-de-2-unidades-de-125-g-casa-grande-de-xanceda/R-590206249/p\n",
      "705 -- https://www.carrefour.es/supermercado/leche-semidesnatada-ecologica-puleva-brik-1-l-puleva/R-625735708/p\n",
      "706 -- https://www.carrefour.es/supermercado/leche-entera-ecologica-cantero-de-letur-1-l-cantero-de-letur/R-fprod1250295/p\n",
      "707 -- https://www.carrefour.es/supermercado/kefir-de-cabra-ecologico-cantero-de-letur-420-g-cantero-de-letur/R-prod410336/p\n",
      "1101 -- https://www.carrefour.es/supermercado/cafe-molido-natural-tierra-madre-oxfam-intermon-250-g-oxfam-intermon/R-526510893/p\n",
      "1201 -- https://www.carrefour.es/supermercado/cerveza-mahou-clasica-lata-33-cl-mahou-clasica/R-520661319/p\n"
     ]
    }
   ],
   "source": [
    "for key, value in carrefour_url_dict.items():\n",
    "        print(key, '--', value)"
   ]
  },
  {
   "cell_type": "code",
   "execution_count": 5,
   "metadata": {},
   "outputs": [],
   "source": [
    "def updating_carrefour():\n",
    "    \n",
    "    update_carrefour_dataframe = pd.DataFrame(columns=['id', 'producto', 'tienda', 'precio', 'unidad', 'fecha'])\n",
    "    tienda = 'Carrefour'\n",
    "    fecha = time.strftime('%A %H:%M %d-%m-%Y')\n",
    "    \n",
    "    # Temporary list of product to match id. TO DO: products table\n",
    "    products_dict = {101: 'tomate ensalada', 102: 'plátano canario', 103: 'manzana royal', 104: 'calabacín', 105: 'zanahoria', 106: 'patata blanca'}\n",
    "    \n",
    "    print('Starting to scrape Carrefour...')\n",
    "    \n",
    "    for product_id, url in carrefour_url_dict.items():\n",
    "        print(url)\n",
    "        time.sleep(30)\n",
    "        html = requests.get(url).text\n",
    "        soup_carrefour = BeautifulSoup(html, 'lxml')\n",
    "\n",
    "        try:\n",
    "            price_carrefour = soup_carrefour.find('div', {'class': 'buybox__price-per-unit'}).text.strip().replace(',','.') \n",
    "        except AttributeError:\n",
    "            print('Carrefour scraper not working today')\n",
    "            pass\n",
    "\n",
    "        else:\n",
    "            if price_carrefour is None:\n",
    "                precio = 'No disponible'\n",
    "                unidad = 'No disponible'\n",
    "            else:\n",
    "                precio = price_carrefour.split()[0]\n",
    "                unidad = price_carrefour.split()[-1]\n",
    "                print(product_id, '--', precio, '--', unidad)\n",
    "\n",
    "                producto = [v for k, v in products_dict.items() if k == product_id]\n",
    "\n",
    "                # Adding new line to the dataframe\n",
    "                daily_carrefour_dataframe.loc[len(daily_carrefour_dataframe)] = [product_id, producto[0], tienda, precio,\n",
    "                                                                                 unidad, fecha]\n",
    "    \n",
    "    return update_carrefour_dataframe"
   ]
  },
  {
   "cell_type": "code",
   "execution_count": 6,
   "metadata": {},
   "outputs": [
    {
     "name": "stdout",
     "output_type": "stream",
     "text": [
      "Starting to scrape Carrefour...\n",
      "https://www.carrefour.es/supermercado/tomate-rama-ecologico-carrefour-bio-500-g-carrefour-bio/R-600709258/p?ic_source=food&ic_medium=undefined&ic_content=cat20002-productos-frescos\n",
      "Carrefour scraper not working today\n",
      "https://www.carrefour.es/supermercado/platano-ecologico-carrefour-bio-1-kg-aprox-carrefour-bio/R-fprod1320276/p?ic_source=food&ic_medium=undefined&ic_content=cat20002-productos-frescos\n",
      "Carrefour scraper not working today\n",
      "https://www.carrefour.es/supermercado/manzana-royal-gala-ecologica-bandeja-4-ud-600-g-carrefour-bio/R-600709190/p?ic_source=food&ic_medium=undefined&ic_content=cat20002-productos-frescos\n"
     ]
    },
    {
     "ename": "KeyboardInterrupt",
     "evalue": "",
     "output_type": "error",
     "traceback": [
      "\u001b[0;31m---------------------------------------------------------------------------\u001b[0m",
      "\u001b[0;31mKeyboardInterrupt\u001b[0m                         Traceback (most recent call last)",
      "\u001b[0;32m<ipython-input-6-53c7ebea7421>\u001b[0m in \u001b[0;36m<module>\u001b[0;34m\u001b[0m\n\u001b[0;32m----> 1\u001b[0;31m \u001b[0mupdating_carrefour\u001b[0m\u001b[0;34m(\u001b[0m\u001b[0;34m)\u001b[0m\u001b[0;34m\u001b[0m\u001b[0;34m\u001b[0m\u001b[0m\n\u001b[0m",
      "\u001b[0;32m<ipython-input-5-b92de07c50e8>\u001b[0m in \u001b[0;36mupdating_carrefour\u001b[0;34m()\u001b[0m\n\u001b[1;32m     12\u001b[0m     \u001b[0;32mfor\u001b[0m \u001b[0mproduct_id\u001b[0m\u001b[0;34m,\u001b[0m \u001b[0murl\u001b[0m \u001b[0;32min\u001b[0m \u001b[0mcarrefour_url_dict\u001b[0m\u001b[0;34m.\u001b[0m\u001b[0mitems\u001b[0m\u001b[0;34m(\u001b[0m\u001b[0;34m)\u001b[0m\u001b[0;34m:\u001b[0m\u001b[0;34m\u001b[0m\u001b[0;34m\u001b[0m\u001b[0m\n\u001b[1;32m     13\u001b[0m         \u001b[0mprint\u001b[0m\u001b[0;34m(\u001b[0m\u001b[0murl\u001b[0m\u001b[0;34m)\u001b[0m\u001b[0;34m\u001b[0m\u001b[0;34m\u001b[0m\u001b[0m\n\u001b[0;32m---> 14\u001b[0;31m         \u001b[0mtime\u001b[0m\u001b[0;34m.\u001b[0m\u001b[0msleep\u001b[0m\u001b[0;34m(\u001b[0m\u001b[0;36m30\u001b[0m\u001b[0;34m)\u001b[0m\u001b[0;34m\u001b[0m\u001b[0;34m\u001b[0m\u001b[0m\n\u001b[0m\u001b[1;32m     15\u001b[0m         \u001b[0mhtml\u001b[0m \u001b[0;34m=\u001b[0m \u001b[0mrequests\u001b[0m\u001b[0;34m.\u001b[0m\u001b[0mget\u001b[0m\u001b[0;34m(\u001b[0m\u001b[0murl\u001b[0m\u001b[0;34m)\u001b[0m\u001b[0;34m.\u001b[0m\u001b[0mtext\u001b[0m\u001b[0;34m\u001b[0m\u001b[0;34m\u001b[0m\u001b[0m\n\u001b[1;32m     16\u001b[0m         \u001b[0msoup_carrefour\u001b[0m \u001b[0;34m=\u001b[0m \u001b[0mBeautifulSoup\u001b[0m\u001b[0;34m(\u001b[0m\u001b[0mhtml\u001b[0m\u001b[0;34m,\u001b[0m \u001b[0;34m'lxml'\u001b[0m\u001b[0;34m)\u001b[0m\u001b[0;34m\u001b[0m\u001b[0;34m\u001b[0m\u001b[0m\n",
      "\u001b[0;31mKeyboardInterrupt\u001b[0m: "
     ]
    }
   ],
   "source": [
    "updating_carrefour()"
   ]
  },
  {
   "cell_type": "code",
   "execution_count": 44,
   "metadata": {},
   "outputs": [],
   "source": [
    "# #plan B\n",
    "\n",
    "# def updating_carrefour_B():\n",
    "    \n",
    "#     new_prices_list = []\n",
    "#     tienda = 'Carrefour'\n",
    "#     fecha = time.strftime('%A %H:%M %d-%m-%Y')\n",
    "#     products_dict = {101: 'tomate ensalada', 102: 'plátano canario', 103: 'manzana royal', 104: 'calabacín', 105: 'zanahoria', 106: 'patata blanca'}\n",
    "    \n",
    "#     print('Starting to scrape Carrefour...')\n",
    "    \n",
    "#     for product_id, url in carrefour_url_dict.items():\n",
    "#         print(url)\n",
    "#         time.sleep(30)\n",
    "#         html = requests.get(url).text\n",
    "#         soup_carrefour = BeautifulSoup(html, 'lxml')\n",
    "#         price_carrefour = soup_carrefour.find(('div'),{'class': 'buybox__price-per-unit'}).text.strip().replace(',','.')\n",
    "        \n",
    "#         precio = price_carrefour.split()[0]\n",
    "#         unidad = price_carrefour.split()[-1]\n",
    "#         print(product_id, '--', precio, '--', unidad)\n",
    "        \n",
    "#         producto = [v for k, v in products_dict.items() if k == product_id]\n",
    "        \n",
    "#         # Adding new line to the dataframe\n",
    "#         new_prices_list.append([product_id, producto[0], tienda, precio, unidad, fecha])\n",
    "    \n",
    "#     update_carrefour_dataframe = pd.DataFrame(new_prices_list, columns=['id', 'producto', 'tienda', 'precio', 'unidad', 'fecha'])\n",
    "    \n",
    "#     return update_carrefour_dataframe\n"
   ]
  },
  {
   "cell_type": "code",
   "execution_count": 45,
   "metadata": {},
   "outputs": [
    {
     "name": "stdout",
     "output_type": "stream",
     "text": [
      "Starting to scrape Carrefour...\n",
      "https://www.carrefour.es/supermercado/tomate-rama-ecologico-carrefour-bio-500-g-carrefour-bio/R-600709258/p?ic_source=food&ic_medium=undefined&ic_content=cat20002-productos-frescos\n",
      "101 -- 3.96 -- €/kg\n",
      "https://www.carrefour.es/supermercado/platano-ecologico-carrefour-bio-1-kg-aprox-carrefour-bio/R-fprod1320276/p?ic_source=food&ic_medium=undefined&ic_content=cat20002-productos-frescos\n",
      "102 -- 2.79 -- €/kg\n",
      "https://www.carrefour.es/supermercado/manzana-royal-gala-ecologica-bandeja-4-ud-600-g-carrefour-bio/R-600709190/p?ic_source=food&ic_medium=undefined&ic_content=cat20002-productos-frescos\n",
      "103 -- 3.00 -- €/kg\n",
      "https://www.carrefour.es/supermercado/calabacin-ecologico-carrefour-bio-500-g-carrefour-bio/R-600709114/p?ic_source=food&ic_medium=undefined&ic_content=cat20002-productos-frescos\n",
      "104 -- 2.78 -- €/kg\n",
      "https://www.carrefour.es/supermercado/zanahoria-ecologica-carrefour-bio-750-g-carrefour-bio/R-prod1070419/p?ic_source=food&ic_medium=undefined&ic_content=cat20002-productos-frescos\n",
      "105 -- 2.27 -- €/kg\n",
      "https://www.carrefour.es/supermercado/patata-ecologica-carrefour-bio-2-kg-carrefour-bio/R-600709102/p?ic_source=food&ic_medium=undefined&ic_content=cat20002-productos-frescos\n",
      "106 -- 1.64 -- €/kg\n"
     ]
    },
    {
     "data": {
      "text/html": [
       "<div>\n",
       "<style scoped>\n",
       "    .dataframe tbody tr th:only-of-type {\n",
       "        vertical-align: middle;\n",
       "    }\n",
       "\n",
       "    .dataframe tbody tr th {\n",
       "        vertical-align: top;\n",
       "    }\n",
       "\n",
       "    .dataframe thead th {\n",
       "        text-align: right;\n",
       "    }\n",
       "</style>\n",
       "<table border=\"1\" class=\"dataframe\">\n",
       "  <thead>\n",
       "    <tr style=\"text-align: right;\">\n",
       "      <th></th>\n",
       "      <th>id</th>\n",
       "      <th>producto</th>\n",
       "      <th>tienda</th>\n",
       "      <th>precio</th>\n",
       "      <th>unidad</th>\n",
       "    </tr>\n",
       "  </thead>\n",
       "  <tbody>\n",
       "    <tr>\n",
       "      <th>0</th>\n",
       "      <td>101</td>\n",
       "      <td>tomate ensalada</td>\n",
       "      <td>3.96</td>\n",
       "      <td>€/kg</td>\n",
       "      <td>Monday 17:55 07-06-2021)</td>\n",
       "    </tr>\n",
       "    <tr>\n",
       "      <th>1</th>\n",
       "      <td>102</td>\n",
       "      <td>plátano canario</td>\n",
       "      <td>2.79</td>\n",
       "      <td>€/kg</td>\n",
       "      <td>Monday 17:55 07-06-2021)</td>\n",
       "    </tr>\n",
       "    <tr>\n",
       "      <th>2</th>\n",
       "      <td>103</td>\n",
       "      <td>manzana royal</td>\n",
       "      <td>3.00</td>\n",
       "      <td>€/kg</td>\n",
       "      <td>Monday 17:55 07-06-2021)</td>\n",
       "    </tr>\n",
       "    <tr>\n",
       "      <th>3</th>\n",
       "      <td>104</td>\n",
       "      <td>calabacín</td>\n",
       "      <td>2.78</td>\n",
       "      <td>€/kg</td>\n",
       "      <td>Monday 17:55 07-06-2021)</td>\n",
       "    </tr>\n",
       "    <tr>\n",
       "      <th>4</th>\n",
       "      <td>105</td>\n",
       "      <td>zanahoria</td>\n",
       "      <td>2.27</td>\n",
       "      <td>€/kg</td>\n",
       "      <td>Monday 17:55 07-06-2021)</td>\n",
       "    </tr>\n",
       "    <tr>\n",
       "      <th>5</th>\n",
       "      <td>106</td>\n",
       "      <td>patata blanca</td>\n",
       "      <td>1.64</td>\n",
       "      <td>€/kg</td>\n",
       "      <td>Monday 17:55 07-06-2021)</td>\n",
       "    </tr>\n",
       "  </tbody>\n",
       "</table>\n",
       "</div>"
      ],
      "text/plain": [
       "    id         producto tienda precio                    unidad\n",
       "0  101  tomate ensalada   3.96   €/kg  Monday 17:55 07-06-2021)\n",
       "1  102  plátano canario   2.79   €/kg  Monday 17:55 07-06-2021)\n",
       "2  103    manzana royal   3.00   €/kg  Monday 17:55 07-06-2021)\n",
       "3  104        calabacín   2.78   €/kg  Monday 17:55 07-06-2021)\n",
       "4  105        zanahoria   2.27   €/kg  Monday 17:55 07-06-2021)\n",
       "5  106    patata blanca   1.64   €/kg  Monday 17:55 07-06-2021)"
      ]
     },
     "execution_count": 45,
     "metadata": {},
     "output_type": "execute_result"
    }
   ],
   "source": [
    "#updating_carrefour_B()"
   ]
  },
  {
   "cell_type": "code",
   "execution_count": null,
   "metadata": {},
   "outputs": [],
   "source": []
  },
  {
   "cell_type": "markdown",
   "metadata": {},
   "source": [
    "## Setting good headers to bypass anti-bot tech"
   ]
  },
  {
   "cell_type": "code",
   "execution_count": 8,
   "metadata": {},
   "outputs": [
    {
     "name": "stdout",
     "output_type": "stream",
     "text": [
      "{'headers': {'Accept': 'text/html,application/xhtml+xml,application/xml;q=0.9,image/webp,image/apng,*/*;q=0.8,application/signed-exchange;v=b3;q=0.9', 'Accept-Encoding': 'gzip, deflate', 'Accept-Language': 'en-GB,en-US;q=0.9,en;q=0.8', 'Dnt': '1', 'Host': 'httpbin.org', 'Upgrade-Insecure-Requests': '1', 'User-Agent': 'Mozilla/5.0 (X11; Linux x86_64) AppleWebKit/537.36 (KHTML, like Gecko) Chrome/44.0.2403.157 Safari/537.36', 'X-Amzn-Trace-Id': 'Root=1-60c32773-1a8d85915ed7732924987672'}}\n"
     ]
    }
   ],
   "source": [
    "headers = {\"Accept\": \"text/html,application/xhtml+xml,application/xml;q=0.9,image/webp,image/apng,*/*;q=0.8,application/signed-exchange;v=b3;q=0.9\", \n",
    "        \"Accept-Encoding\": \"gzip, deflate\", \n",
    "        \"Accept-Language\": \"en-GB,en-US;q=0.9,en;q=0.8\", \n",
    "        \"Dnt\": \"1\", \n",
    "        \"Host\": \"httpbin.org\", \n",
    "        \"Upgrade-Insecure-Requests\": \"1\", \n",
    "        \"User-Agent\": \"Mozilla/5.0 (X11; Linux x86_64) AppleWebKit/537.36 (KHTML, like Gecko) Chrome/44.0.2403.157 Safari/537.36\"}\n",
    "r = requests.get(\"http://httpbin.org/headers\",headers=headers)\n",
    "print(r.json())"
   ]
  },
  {
   "cell_type": "code",
   "execution_count": null,
   "metadata": {},
   "outputs": [],
   "source": []
  }
 ],
 "metadata": {
  "kernelspec": {
   "display_name": "Python [conda env:app_env]",
   "language": "python",
   "name": "conda-env-app_env-py"
  },
  "language_info": {
   "codemirror_mode": {
    "name": "ipython",
    "version": 3
   },
   "file_extension": ".py",
   "mimetype": "text/x-python",
   "name": "python",
   "nbconvert_exporter": "python",
   "pygments_lexer": "ipython3",
   "version": "3.8.8"
  }
 },
 "nbformat": 4,
 "nbformat_minor": 4
}
