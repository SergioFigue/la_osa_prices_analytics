{
 "cells": [
  {
   "cell_type": "markdown",
   "metadata": {},
   "source": [
    "# Scraping Carrefour"
   ]
  },
  {
   "cell_type": "code",
   "execution_count": 1,
   "metadata": {},
   "outputs": [],
   "source": [
    "import pandas as pd\n",
    "import requests\n",
    "from bs4 import BeautifulSoup\n",
    "import re\n",
    "import time"
   ]
  },
  {
   "cell_type": "markdown",
   "metadata": {},
   "source": [
    "## Scraping product prices"
   ]
  },
  {
   "cell_type": "code",
   "execution_count": 2,
   "metadata": {},
   "outputs": [],
   "source": [
    "HEADER = {\"User-Agent\": \"Mozilla/5.0 (X11; CrOS x86_64 12871.102.0) AppleWebKit/537.36 (KHTML, like Gecko) \"\n",
    "                        \"Chrome/90.0.4430.85 Safari/537.36\"}"
   ]
  },
  {
   "cell_type": "code",
   "execution_count": null,
   "metadata": {},
   "outputs": [],
   "source": [
    "# Tomate en rama o ensalada 101\n",
    "url_carr_tomate = f'https://www.carrefour.es/supermercado/tomate-rama-ecologico-carrefour-bio-500-g-carrefour-bio/R-600709258/p?ic_source=food&ic_medium=undefined&ic_content=cat20002-productos-frescos'\n",
    "html = requests.get(url_carr_tomate, headers=HEADER).text\n",
    "soup_carrefour = BeautifulSoup(html, 'lxml')\n",
    "price_carr_tomate = soup_carrefour.find(('div'),{'class': 'buybox__price-per-unit'}).text.strip().replace(',','.')"
   ]
  },
  {
   "cell_type": "code",
   "execution_count": 24,
   "metadata": {},
   "outputs": [
    {
     "data": {
      "text/plain": [
       "'3.96 €/kg'"
      ]
     },
     "execution_count": 24,
     "metadata": {},
     "output_type": "execute_result"
    }
   ],
   "source": [
    "price_carr_tomate"
   ]
  },
  {
   "cell_type": "code",
   "execution_count": 7,
   "metadata": {},
   "outputs": [
    {
     "name": "stdout",
     "output_type": "stream",
     "text": [
      "3.96 -- €/kg\n"
     ]
    }
   ],
   "source": [
    "precio = price_carr_tomate.split()[0]\n",
    "unidad = price_carr_tomate.split()[-1]\n",
    "print(precio, '--', unidad)"
   ]
  },
  {
   "cell_type": "code",
   "execution_count": 68,
   "metadata": {},
   "outputs": [
    {
     "ename": "AttributeError",
     "evalue": "'NoneType' object has no attribute 'text'",
     "output_type": "error",
     "traceback": [
      "\u001b[0;31m---------------------------------------------------------------------------\u001b[0m",
      "\u001b[0;31mAttributeError\u001b[0m                            Traceback (most recent call last)",
      "\u001b[0;32m<ipython-input-68-1196ce924e4b>\u001b[0m in \u001b[0;36m<module>\u001b[0;34m\u001b[0m\n\u001b[1;32m      3\u001b[0m \u001b[0mhtml\u001b[0m \u001b[0;34m=\u001b[0m \u001b[0mrequests\u001b[0m\u001b[0;34m.\u001b[0m\u001b[0mget\u001b[0m\u001b[0;34m(\u001b[0m\u001b[0murl_carr_platano\u001b[0m\u001b[0;34m)\u001b[0m\u001b[0;34m.\u001b[0m\u001b[0mtext\u001b[0m\u001b[0;34m\u001b[0m\u001b[0;34m\u001b[0m\u001b[0m\n\u001b[1;32m      4\u001b[0m \u001b[0msoup_carrefour\u001b[0m \u001b[0;34m=\u001b[0m \u001b[0mBeautifulSoup\u001b[0m\u001b[0;34m(\u001b[0m\u001b[0mhtml\u001b[0m\u001b[0;34m,\u001b[0m \u001b[0;34m'lxml'\u001b[0m\u001b[0;34m)\u001b[0m\u001b[0;34m\u001b[0m\u001b[0;34m\u001b[0m\u001b[0m\n\u001b[0;32m----> 5\u001b[0;31m \u001b[0mprice_carr_platano\u001b[0m \u001b[0;34m=\u001b[0m \u001b[0msoup_carrefour\u001b[0m\u001b[0;34m.\u001b[0m\u001b[0mfind\u001b[0m\u001b[0;34m(\u001b[0m\u001b[0;34m(\u001b[0m\u001b[0;34m'div'\u001b[0m\u001b[0;34m)\u001b[0m\u001b[0;34m,\u001b[0m\u001b[0;34m{\u001b[0m\u001b[0;34m'class'\u001b[0m\u001b[0;34m:\u001b[0m \u001b[0;34m'buybox__price-per-unit'\u001b[0m\u001b[0;34m}\u001b[0m\u001b[0;34m)\u001b[0m\u001b[0;34m.\u001b[0m\u001b[0mtext\u001b[0m\u001b[0;34m.\u001b[0m\u001b[0mstrip\u001b[0m\u001b[0;34m(\u001b[0m\u001b[0;34m)\u001b[0m\u001b[0;34m.\u001b[0m\u001b[0mreplace\u001b[0m\u001b[0;34m(\u001b[0m\u001b[0;34m','\u001b[0m\u001b[0;34m,\u001b[0m\u001b[0;34m'.'\u001b[0m\u001b[0;34m)\u001b[0m\u001b[0;34m\u001b[0m\u001b[0;34m\u001b[0m\u001b[0m\n\u001b[0m\u001b[1;32m      6\u001b[0m \u001b[0mprecio\u001b[0m \u001b[0;34m=\u001b[0m \u001b[0mprice_carr_platano\u001b[0m\u001b[0;34m.\u001b[0m\u001b[0msplit\u001b[0m\u001b[0;34m(\u001b[0m\u001b[0;34m)\u001b[0m\u001b[0;34m[\u001b[0m\u001b[0;36m0\u001b[0m\u001b[0;34m]\u001b[0m\u001b[0;34m\u001b[0m\u001b[0;34m\u001b[0m\u001b[0m\n\u001b[1;32m      7\u001b[0m \u001b[0munidad\u001b[0m \u001b[0;34m=\u001b[0m \u001b[0mprice_carr_platano\u001b[0m\u001b[0;34m.\u001b[0m\u001b[0msplit\u001b[0m\u001b[0;34m(\u001b[0m\u001b[0;34m)\u001b[0m\u001b[0;34m[\u001b[0m\u001b[0;34m-\u001b[0m\u001b[0;36m1\u001b[0m\u001b[0;34m]\u001b[0m\u001b[0;34m\u001b[0m\u001b[0;34m\u001b[0m\u001b[0m\n",
      "\u001b[0;31mAttributeError\u001b[0m: 'NoneType' object has no attribute 'text'"
     ]
    }
   ],
   "source": [
    "# Plátano canario 102\n",
    "url_carr_platano = f'https://www.carrefour.es/supermercado/platano-ecologico-carrefour-bio-1-kg-aprox-carrefour-bio/R-fprod1320276/p?ic_source=food&ic_medium=undefined&ic_content=cat20002-productos-frescos'\n",
    "html = requests.get(url_carr_platano).text\n",
    "soup_carrefour = BeautifulSoup(html, 'lxml')\n",
    "price_carr_platano = soup_carrefour.find(('div'),{'class': 'buybox__price-per-unit'}).text.strip().replace(',','.')\n",
    "precio = price_carr_platano.split()[0]\n",
    "unidad = price_carr_platano.split()[-1]\n",
    "print(precio, '--', unidad)"
   ]
  },
  {
   "cell_type": "code",
   "execution_count": 50,
   "metadata": {},
   "outputs": [
    {
     "name": "stdout",
     "output_type": "stream",
     "text": [
      "3.00 -- €/kg\n"
     ]
    }
   ],
   "source": [
    "# Manzana royal gala o roja 103\n",
    "url_carr_manzana = f'https://www.carrefour.es/supermercado/manzana-royal-gala-ecologica-bandeja-4-ud-600-g-carrefour-bio/R-600709190/p?ic_source=food&ic_medium=undefined&ic_content=cat20002-productos-frescos'\n",
    "html = requests.get(url_carr_manzana).text\n",
    "soup_carrefour = BeautifulSoup(html, 'lxml')\n",
    "price_carr_manzana = soup_carrefour.find(('div'),{'class': 'buybox__price-per-unit'}).text.strip().replace(',','.')\n",
    "precio = price_carr_manzana.split()[0]\n",
    "unidad = price_carr_manzana.split()[-1]\n",
    "print(precio, '--', unidad)"
   ]
  },
  {
   "cell_type": "code",
   "execution_count": 42,
   "metadata": {},
   "outputs": [
    {
     "name": "stdout",
     "output_type": "stream",
     "text": [
      "2.78 -- €/kg\n"
     ]
    }
   ],
   "source": [
    "# Calabacín 104\n",
    "url_carr_calabacin = f'https://www.carrefour.es/supermercado/calabacin-ecologico-carrefour-bio-500-g-carrefour-bio/R-600709114/p?ic_source=food&ic_medium=undefined&ic_content=cat20002-productos-frescos'\n",
    "html = requests.get(url_carr_calabacin).text\n",
    "soup_carrefour = BeautifulSoup(html, 'lxml')\n",
    "price_carr_calabacin = soup_carrefour.find(('div'),{'class': 'buybox__price-per-unit'}).text.strip().replace(',','.')\n",
    "precio = price_carr_calabacin.split()[0]\n",
    "unidad = price_carr_calabacin.split()[-1]\n",
    "print(precio, '--', unidad)"
   ]
  },
  {
   "cell_type": "code",
   "execution_count": 53,
   "metadata": {},
   "outputs": [
    {
     "name": "stdout",
     "output_type": "stream",
     "text": [
      "2.27 -- €/kg\n"
     ]
    }
   ],
   "source": [
    "# Zanahoria 105\n",
    "url_carr_zanahoria = f'https://www.carrefour.es/supermercado/zanahoria-ecologica-carrefour-bio-750-g-carrefour-bio/R-prod1070419/p?ic_source=food&ic_medium=undefined&ic_content=cat20002-productos-frescos'\n",
    "html = requests.get(url_carr_zanahoria).text\n",
    "soup_carrefour = BeautifulSoup(html, 'lxml')\n",
    "price_carr_zanahoria = soup_carrefour.find(('div'),{'class': 'buybox__price-per-unit'}).text.strip().replace(',','.')\n",
    "precio = price_carr_zanahoria.split()[0]\n",
    "unidad = price_carr_zanahoria.split()[-1]\n",
    "print(precio, '--', unidad)"
   ]
  },
  {
   "cell_type": "code",
   "execution_count": 54,
   "metadata": {},
   "outputs": [
    {
     "name": "stdout",
     "output_type": "stream",
     "text": [
      "1.64 -- €/kg\n"
     ]
    }
   ],
   "source": [
    "# Patata blanca 106\n",
    "url_carr_patata = f'https://www.carrefour.es/supermercado/patata-ecologica-carrefour-bio-2-kg-carrefour-bio/R-600709102/p?ic_source=food&ic_medium=undefined&ic_content=cat20002-productos-frescos'\n",
    "html = requests.get(url_carr_patata).text\n",
    "soup_carrefour = BeautifulSoup(html, 'lxml')\n",
    "price_carr_patata = soup_carrefour.find(('div'),{'class': 'buybox__price-per-unit'}).text.strip().replace(',','.')\n",
    "precio = price_carr_patata.split()[0]\n",
    "unidad = price_carr_patata.split()[-1]\n",
    "print(precio, '--', unidad)"
   ]
  },
  {
   "cell_type": "code",
   "execution_count": null,
   "metadata": {},
   "outputs": [],
   "source": []
  },
  {
   "cell_type": "code",
   "execution_count": null,
   "metadata": {},
   "outputs": [],
   "source": [
    "# Pasar a funcion con bucle for por url y varios if para determinar código y nombre de producto + añadir timestamp"
   ]
  },
  {
   "cell_type": "code",
   "execution_count": 32,
   "metadata": {},
   "outputs": [],
   "source": [
    "carrefour_url_dict = {101: f'https://www.carrefour.es/supermercado/tomate-rama-ecologico-carrefour-bio-500-g-carrefour-bio/R-600709258/p?ic_source=food&ic_medium=undefined&ic_content=cat20002-productos-frescos',\n",
    "                      102: f'https://www.carrefour.es/supermercado/platano-ecologico-carrefour-bio-1-kg-aprox-carrefour-bio/R-fprod1320276/p?ic_source=food&ic_medium=undefined&ic_content=cat20002-productos-frescos',\n",
    "                      103: f'https://www.carrefour.es/supermercado/manzana-royal-gala-ecologica-bandeja-4-ud-600-g-carrefour-bio/R-600709190/p?ic_source=food&ic_medium=undefined&ic_content=cat20002-productos-frescos',\n",
    "                      104: f'https://www.carrefour.es/supermercado/calabacin-ecologico-carrefour-bio-500-g-carrefour-bio/R-600709114/p?ic_source=food&ic_medium=undefined&ic_content=cat20002-productos-frescos',\n",
    "                      105: f'https://www.carrefour.es/supermercado/zanahoria-ecologica-carrefour-bio-750-g-carrefour-bio/R-prod1070419/p?ic_source=food&ic_medium=undefined&ic_content=cat20002-productos-frescos',\n",
    "                      106: f'https://www.carrefour.es/supermercado/patata-ecologica-carrefour-bio-2-kg-carrefour-bio/R-600709102/p?ic_source=food&ic_medium=undefined&ic_content=cat20002-productos-frescos'}\n",
    "                      #304: f'https://www.carrefour.es/supermercado/bizcocho-marmol-con-chocolate-ecologico-la-granja-300-g/R-VC4AECOMM-491615/p?ic_source=food&ic_medium=undefined&ic_content=cat20002-productos-frescos',\n",
    "                      #501: f'https://www.carrefour.es/supermercado/chocolate-negro-75-ecologico-ethiquable-100-g-ethiquable/R-fprod1450021/p?ic_source=portal-y-corporativo&ic_medium=search-empathy&ic_content=ns',\n",
    "                      #602: f'https://www.carrefour.es/supermercado/bacon-lonchas-ecologico-biobardales-100-g-biobardales/R-590205589/p?ic_source=portal-y-corporativo&ic_medium=search-empathy&ic_content=ns',\n",
    "                      #702: f'https://www.carrefour.es/supermercado/bebida-de-avena-con-calcio-ecologica-soria-natural-brik-1-l-soria-natural/R-701717697/p',\n",
    "                      #703: f'https://www.carrefour.es/supermercado/bebida-de-avena-sin-azucar-anadido-yosoy-brik-1-l-yosoy/R-804323938/p',\n",
    "                      #704: f'https://www.carrefour.es/supermercado/yogur-con-vainilla-ecologico-casa-grande-de-xanceda-pack-de-2-unidades-de-125-g-casa-grande-de-xanceda/R-590206249/p',\n",
    "                      #705: f'https://www.carrefour.es/supermercado/leche-semidesnatada-ecologica-puleva-brik-1-l-puleva/R-625735708/p',\n",
    "                      #706: f'https://www.carrefour.es/supermercado/leche-entera-ecologica-cantero-de-letur-1-l-cantero-de-letur/R-fprod1250295/p',\n",
    "                      #707: f'https://www.carrefour.es/supermercado/kefir-de-cabra-ecologico-cantero-de-letur-420-g-cantero-de-letur/R-prod410336/p',\n",
    "                      #1101: f'https://www.carrefour.es/supermercado/cafe-molido-natural-tierra-madre-oxfam-intermon-250-g-oxfam-intermon/R-526510893/p',\n",
    "                      #1201: f'https://www.carrefour.es/supermercado/cerveza-mahou-clasica-lata-33-cl-mahou-clasica/R-520661319/p'}\n"
   ]
  },
  {
   "cell_type": "code",
   "execution_count": 43,
   "metadata": {},
   "outputs": [
    {
     "name": "stdout",
     "output_type": "stream",
     "text": [
      "101 -- https://www.carrefour.es/supermercado/tomate-rama-ecologico-carrefour-bio-500-g-carrefour-bio/R-600709258/p?ic_source=food&ic_medium=undefined&ic_content=cat20002-productos-frescos\n",
      "102 -- https://www.carrefour.es/supermercado/platano-ecologico-carrefour-bio-1-kg-aprox-carrefour-bio/R-fprod1320276/p?ic_source=food&ic_medium=undefined&ic_content=cat20002-productos-frescos\n",
      "103 -- https://www.carrefour.es/supermercado/manzana-royal-gala-ecologica-bandeja-4-ud-600-g-carrefour-bio/R-600709190/p?ic_source=food&ic_medium=undefined&ic_content=cat20002-productos-frescos\n",
      "104 -- https://www.carrefour.es/supermercado/calabacin-ecologico-carrefour-bio-500-g-carrefour-bio/R-600709114/p?ic_source=food&ic_medium=undefined&ic_content=cat20002-productos-frescos\n",
      "105 -- https://www.carrefour.es/supermercado/zanahoria-ecologica-carrefour-bio-750-g-carrefour-bio/R-prod1070419/p?ic_source=food&ic_medium=undefined&ic_content=cat20002-productos-frescos\n",
      "106 -- https://www.carrefour.es/supermercado/patata-ecologica-carrefour-bio-2-kg-carrefour-bio/R-600709102/p?ic_source=food&ic_medium=undefined&ic_content=cat20002-productos-frescos\n"
     ]
    }
   ],
   "source": [
    "for key, value in carrefour_url_dict.items():\n",
    "        print(key, '--', value)"
   ]
  },
  {
   "cell_type": "code",
   "execution_count": 47,
   "metadata": {},
   "outputs": [],
   "source": [
    "def updating_carrefour():\n",
    "    \n",
    "    update_carrefour_dataframe = pd.DataFrame(columns=['id', 'producto', 'tienda', 'precio', 'unidad', 'fecha'])\n",
    "    tienda = 'Carrefour'\n",
    "    fecha = time.strftime('%A %H:%M %d-%m-%Y')\n",
    "    \n",
    "    # Temporary list of product to match id. TO DO: products table\n",
    "    products_dict = {101: 'tomate ensalada', 102: 'plátano canario', 103: 'manzana royal', 104: 'calabacín', 105: 'zanahoria', 106: 'patata blanca'}\n",
    "    \n",
    "    print('Starting to scrape Carrefour...')\n",
    "    \n",
    "    for product_id, url in carrefour_url_dict.items():\n",
    "        print(url)\n",
    "        time.sleep(30)\n",
    "        html = requests.get(url).text\n",
    "        soup_carrefour = BeautifulSoup(html, 'lxml')\n",
    "        price_carrefour = soup_carrefour.find(('div'),{'class': 'buybox__price-per-unit'}).text.strip().replace(',','.')\n",
    "        \n",
    "        precio = price_carrefour.split()[0]\n",
    "        unidad = price_carrefour.split()[-1]\n",
    "        print(product_id, '--', precio, '--', unidad)\n",
    "        \n",
    "        producto = [v for k, v in products_dict.items() if k == product_id]\n",
    "        \n",
    "        # Adding new line to the dataframe\n",
    "        update_carrefour_dataframe.loc[len(update_carrefour_dataframe)] = [product_id, producto[0], tienda, precio, unidad, fecha]\n",
    "    \n",
    "    return update_carrefour_dataframe"
   ]
  },
  {
   "cell_type": "code",
   "execution_count": 44,
   "metadata": {},
   "outputs": [],
   "source": [
    "#plan B\n",
    "\n",
    "def updating_carrefour_B():\n",
    "    \n",
    "    new_prices_list = []\n",
    "    tienda = 'Carrefour'\n",
    "    fecha = time.strftime('%A %H:%M %d-%m-%Y')\n",
    "    products_dict = {101: 'tomate ensalada', 102: 'plátano canario', 103: 'manzana royal', 104: 'calabacín', 105: 'zanahoria', 106: 'patata blanca'}\n",
    "    \n",
    "    print('Starting to scrape Carrefour...')\n",
    "    \n",
    "    for product_id, url in carrefour_url_dict.items():\n",
    "        print(url)\n",
    "        time.sleep(30)\n",
    "        html = requests.get(url).text\n",
    "        soup_carrefour = BeautifulSoup(html, 'lxml')\n",
    "        price_carrefour = soup_carrefour.find(('div'),{'class': 'buybox__price-per-unit'}).text.strip().replace(',','.')\n",
    "        \n",
    "        precio = price_carrefour.split()[0]\n",
    "        unidad = price_carrefour.split()[-1]\n",
    "        print(product_id, '--', precio, '--', unidad)\n",
    "        \n",
    "        producto = [v for k, v in products_dict.items() if k == product_id]\n",
    "        \n",
    "        # Adding new line to the dataframe\n",
    "        new_prices_list.append([product_id, producto[0], tienda, precio, unidad, fecha])\n",
    "    \n",
    "    update_carrefour_dataframe = pd.DataFrame(new_prices_list, columns=['id', 'producto', 'tienda', 'precio', 'unidad', 'fecha'])\n",
    "    \n",
    "    return update_carrefour_dataframe\n"
   ]
  },
  {
   "cell_type": "code",
   "execution_count": 45,
   "metadata": {},
   "outputs": [
    {
     "name": "stdout",
     "output_type": "stream",
     "text": [
      "Starting to scrape Carrefour...\n",
      "https://www.carrefour.es/supermercado/tomate-rama-ecologico-carrefour-bio-500-g-carrefour-bio/R-600709258/p?ic_source=food&ic_medium=undefined&ic_content=cat20002-productos-frescos\n",
      "101 -- 3.96 -- €/kg\n",
      "https://www.carrefour.es/supermercado/platano-ecologico-carrefour-bio-1-kg-aprox-carrefour-bio/R-fprod1320276/p?ic_source=food&ic_medium=undefined&ic_content=cat20002-productos-frescos\n",
      "102 -- 2.79 -- €/kg\n",
      "https://www.carrefour.es/supermercado/manzana-royal-gala-ecologica-bandeja-4-ud-600-g-carrefour-bio/R-600709190/p?ic_source=food&ic_medium=undefined&ic_content=cat20002-productos-frescos\n",
      "103 -- 3.00 -- €/kg\n",
      "https://www.carrefour.es/supermercado/calabacin-ecologico-carrefour-bio-500-g-carrefour-bio/R-600709114/p?ic_source=food&ic_medium=undefined&ic_content=cat20002-productos-frescos\n",
      "104 -- 2.78 -- €/kg\n",
      "https://www.carrefour.es/supermercado/zanahoria-ecologica-carrefour-bio-750-g-carrefour-bio/R-prod1070419/p?ic_source=food&ic_medium=undefined&ic_content=cat20002-productos-frescos\n",
      "105 -- 2.27 -- €/kg\n",
      "https://www.carrefour.es/supermercado/patata-ecologica-carrefour-bio-2-kg-carrefour-bio/R-600709102/p?ic_source=food&ic_medium=undefined&ic_content=cat20002-productos-frescos\n",
      "106 -- 1.64 -- €/kg\n"
     ]
    },
    {
     "data": {
      "text/html": [
       "<div>\n",
       "<style scoped>\n",
       "    .dataframe tbody tr th:only-of-type {\n",
       "        vertical-align: middle;\n",
       "    }\n",
       "\n",
       "    .dataframe tbody tr th {\n",
       "        vertical-align: top;\n",
       "    }\n",
       "\n",
       "    .dataframe thead th {\n",
       "        text-align: right;\n",
       "    }\n",
       "</style>\n",
       "<table border=\"1\" class=\"dataframe\">\n",
       "  <thead>\n",
       "    <tr style=\"text-align: right;\">\n",
       "      <th></th>\n",
       "      <th>id</th>\n",
       "      <th>producto</th>\n",
       "      <th>tienda</th>\n",
       "      <th>precio</th>\n",
       "      <th>unidad</th>\n",
       "    </tr>\n",
       "  </thead>\n",
       "  <tbody>\n",
       "    <tr>\n",
       "      <th>0</th>\n",
       "      <td>101</td>\n",
       "      <td>tomate ensalada</td>\n",
       "      <td>3.96</td>\n",
       "      <td>€/kg</td>\n",
       "      <td>Monday 17:55 07-06-2021)</td>\n",
       "    </tr>\n",
       "    <tr>\n",
       "      <th>1</th>\n",
       "      <td>102</td>\n",
       "      <td>plátano canario</td>\n",
       "      <td>2.79</td>\n",
       "      <td>€/kg</td>\n",
       "      <td>Monday 17:55 07-06-2021)</td>\n",
       "    </tr>\n",
       "    <tr>\n",
       "      <th>2</th>\n",
       "      <td>103</td>\n",
       "      <td>manzana royal</td>\n",
       "      <td>3.00</td>\n",
       "      <td>€/kg</td>\n",
       "      <td>Monday 17:55 07-06-2021)</td>\n",
       "    </tr>\n",
       "    <tr>\n",
       "      <th>3</th>\n",
       "      <td>104</td>\n",
       "      <td>calabacín</td>\n",
       "      <td>2.78</td>\n",
       "      <td>€/kg</td>\n",
       "      <td>Monday 17:55 07-06-2021)</td>\n",
       "    </tr>\n",
       "    <tr>\n",
       "      <th>4</th>\n",
       "      <td>105</td>\n",
       "      <td>zanahoria</td>\n",
       "      <td>2.27</td>\n",
       "      <td>€/kg</td>\n",
       "      <td>Monday 17:55 07-06-2021)</td>\n",
       "    </tr>\n",
       "    <tr>\n",
       "      <th>5</th>\n",
       "      <td>106</td>\n",
       "      <td>patata blanca</td>\n",
       "      <td>1.64</td>\n",
       "      <td>€/kg</td>\n",
       "      <td>Monday 17:55 07-06-2021)</td>\n",
       "    </tr>\n",
       "  </tbody>\n",
       "</table>\n",
       "</div>"
      ],
      "text/plain": [
       "    id         producto tienda precio                    unidad\n",
       "0  101  tomate ensalada   3.96   €/kg  Monday 17:55 07-06-2021)\n",
       "1  102  plátano canario   2.79   €/kg  Monday 17:55 07-06-2021)\n",
       "2  103    manzana royal   3.00   €/kg  Monday 17:55 07-06-2021)\n",
       "3  104        calabacín   2.78   €/kg  Monday 17:55 07-06-2021)\n",
       "4  105        zanahoria   2.27   €/kg  Monday 17:55 07-06-2021)\n",
       "5  106    patata blanca   1.64   €/kg  Monday 17:55 07-06-2021)"
      ]
     },
     "execution_count": 45,
     "metadata": {},
     "output_type": "execute_result"
    }
   ],
   "source": [
    "updating_carrefour_B()"
   ]
  },
  {
   "cell_type": "code",
   "execution_count": 48,
   "metadata": {},
   "outputs": [
    {
     "name": "stdout",
     "output_type": "stream",
     "text": [
      "Starting to scrape Carrefour...\n",
      "https://www.carrefour.es/supermercado/tomate-rama-ecologico-carrefour-bio-500-g-carrefour-bio/R-600709258/p?ic_source=food&ic_medium=undefined&ic_content=cat20002-productos-frescos\n",
      "101 -- 3.96 -- €/kg\n",
      "https://www.carrefour.es/supermercado/platano-ecologico-carrefour-bio-1-kg-aprox-carrefour-bio/R-fprod1320276/p?ic_source=food&ic_medium=undefined&ic_content=cat20002-productos-frescos\n",
      "102 -- 2.79 -- €/kg\n",
      "https://www.carrefour.es/supermercado/manzana-royal-gala-ecologica-bandeja-4-ud-600-g-carrefour-bio/R-600709190/p?ic_source=food&ic_medium=undefined&ic_content=cat20002-productos-frescos\n",
      "103 -- 3.00 -- €/kg\n",
      "https://www.carrefour.es/supermercado/calabacin-ecologico-carrefour-bio-500-g-carrefour-bio/R-600709114/p?ic_source=food&ic_medium=undefined&ic_content=cat20002-productos-frescos\n",
      "104 -- 2.78 -- €/kg\n",
      "https://www.carrefour.es/supermercado/zanahoria-ecologica-carrefour-bio-750-g-carrefour-bio/R-prod1070419/p?ic_source=food&ic_medium=undefined&ic_content=cat20002-productos-frescos\n",
      "105 -- 2.27 -- €/kg\n",
      "https://www.carrefour.es/supermercado/patata-ecologica-carrefour-bio-2-kg-carrefour-bio/R-600709102/p?ic_source=food&ic_medium=undefined&ic_content=cat20002-productos-frescos\n",
      "106 -- 1.64 -- €/kg\n"
     ]
    },
    {
     "data": {
      "text/html": [
       "<div>\n",
       "<style scoped>\n",
       "    .dataframe tbody tr th:only-of-type {\n",
       "        vertical-align: middle;\n",
       "    }\n",
       "\n",
       "    .dataframe tbody tr th {\n",
       "        vertical-align: top;\n",
       "    }\n",
       "\n",
       "    .dataframe thead th {\n",
       "        text-align: right;\n",
       "    }\n",
       "</style>\n",
       "<table border=\"1\" class=\"dataframe\">\n",
       "  <thead>\n",
       "    <tr style=\"text-align: right;\">\n",
       "      <th></th>\n",
       "      <th>id</th>\n",
       "      <th>producto</th>\n",
       "      <th>tienda</th>\n",
       "      <th>precio</th>\n",
       "      <th>unidad</th>\n",
       "      <th>fecha</th>\n",
       "    </tr>\n",
       "  </thead>\n",
       "  <tbody>\n",
       "    <tr>\n",
       "      <th>0</th>\n",
       "      <td>101</td>\n",
       "      <td>tomate ensalada</td>\n",
       "      <td>Carrefour</td>\n",
       "      <td>3.96</td>\n",
       "      <td>€/kg</td>\n",
       "      <td>Monday 18:00 07-06-2021)</td>\n",
       "    </tr>\n",
       "    <tr>\n",
       "      <th>1</th>\n",
       "      <td>102</td>\n",
       "      <td>plátano canario</td>\n",
       "      <td>Carrefour</td>\n",
       "      <td>2.79</td>\n",
       "      <td>€/kg</td>\n",
       "      <td>Monday 18:00 07-06-2021)</td>\n",
       "    </tr>\n",
       "    <tr>\n",
       "      <th>2</th>\n",
       "      <td>103</td>\n",
       "      <td>manzana royal</td>\n",
       "      <td>Carrefour</td>\n",
       "      <td>3.00</td>\n",
       "      <td>€/kg</td>\n",
       "      <td>Monday 18:00 07-06-2021)</td>\n",
       "    </tr>\n",
       "    <tr>\n",
       "      <th>3</th>\n",
       "      <td>104</td>\n",
       "      <td>calabacín</td>\n",
       "      <td>Carrefour</td>\n",
       "      <td>2.78</td>\n",
       "      <td>€/kg</td>\n",
       "      <td>Monday 18:00 07-06-2021)</td>\n",
       "    </tr>\n",
       "    <tr>\n",
       "      <th>4</th>\n",
       "      <td>105</td>\n",
       "      <td>zanahoria</td>\n",
       "      <td>Carrefour</td>\n",
       "      <td>2.27</td>\n",
       "      <td>€/kg</td>\n",
       "      <td>Monday 18:00 07-06-2021)</td>\n",
       "    </tr>\n",
       "    <tr>\n",
       "      <th>5</th>\n",
       "      <td>106</td>\n",
       "      <td>patata blanca</td>\n",
       "      <td>Carrefour</td>\n",
       "      <td>1.64</td>\n",
       "      <td>€/kg</td>\n",
       "      <td>Monday 18:00 07-06-2021)</td>\n",
       "    </tr>\n",
       "  </tbody>\n",
       "</table>\n",
       "</div>"
      ],
      "text/plain": [
       "    id         producto     tienda precio unidad                     fecha\n",
       "0  101  tomate ensalada  Carrefour   3.96   €/kg  Monday 18:00 07-06-2021)\n",
       "1  102  plátano canario  Carrefour   2.79   €/kg  Monday 18:00 07-06-2021)\n",
       "2  103    manzana royal  Carrefour   3.00   €/kg  Monday 18:00 07-06-2021)\n",
       "3  104        calabacín  Carrefour   2.78   €/kg  Monday 18:00 07-06-2021)\n",
       "4  105        zanahoria  Carrefour   2.27   €/kg  Monday 18:00 07-06-2021)\n",
       "5  106    patata blanca  Carrefour   1.64   €/kg  Monday 18:00 07-06-2021)"
      ]
     },
     "execution_count": 48,
     "metadata": {},
     "output_type": "execute_result"
    }
   ],
   "source": [
    "updating_carrefour()"
   ]
  },
  {
   "cell_type": "code",
   "execution_count": null,
   "metadata": {},
   "outputs": [],
   "source": []
  },
  {
   "cell_type": "code",
   "execution_count": null,
   "metadata": {},
   "outputs": [],
   "source": []
  },
  {
   "cell_type": "code",
   "execution_count": null,
   "metadata": {},
   "outputs": [],
   "source": []
  },
  {
   "cell_type": "code",
   "execution_count": null,
   "metadata": {},
   "outputs": [],
   "source": [
    "def scraping_carrefour():\n",
    "    print('Starting to scrape Carrefour...')\n",
    "    list_pages_carrefour = list(range(0, 336, 24))\n",
    "    table_pages_carrefour = []\n",
    "    for num in list_pages_carrefour:\n",
    "        url_carrefour = f'https://www.carrefour.es/supermercado/bebidas/cerveza/todas-las-cervezas/N-1uq8b5u/c?No={num}'\n",
    "        html = requests.get(url_carrefour, headers=HEADER).text\n",
    "        soup_carrefour = BeautifulSoup(html, 'lxml')\n",
    "        table_carrefour = soup_carrefour.find_all({'article': 'product-card-item'})\n",
    "        table_pages_carrefour.append(table_carrefour)\n",
    "    return table_pages_carrefour\n",
    "\n",
    "\n",
    "# info Carrefour function:\n",
    "def info_carrefour(scraping_list_info):\n",
    "    data_raw_carrefour = []\n",
    "    for i in range(len(scraping_list_info)):\n",
    "        for j in range(len(scraping_list_info[i])):\n",
    "            rows_carrefour = scraping_list_info[i][j].find_all(['span', 'p', 'a'], {\n",
    "                'class': ['price', 'price-less', 'format-price', 'js-gap-product-click-super']})\n",
    "            promotion_carrefour = scraping_list_info[i][j].find_all(['p'], {'class': ['promocion-copy']})\n",
    "            if len(rows_carrefour) != 0:\n",
    "                if len(promotion_carrefour) != 0:\n",
    "                    data_raw_carrefour.append(rows_carrefour + promotion_carrefour)\n",
    "                else:\n",
    "                    data_raw_carrefour.append(rows_carrefour)\n",
    "    print('Finished scraping Carrefour')\n",
    "    return data_raw_carrefour\n",
    "\n",
    "\n",
    "# function to get price of carrefour beers\n",
    "def get_price_carrefour(data_text):\n",
    "    price_raw = data_text.text\n",
    "    price = re.sub('\\xa0€', '', price_raw)\n",
    "    price = re.sub('\\n', '', price)\n",
    "    return float(re.sub(\",\", '.', price))\n",
    "\n",
    "\n",
    "# function to get price/liter of carrefour beers\n",
    "def get_price_l_carrefour(data_text):\n",
    "    price_l_raw = data_text.text\n",
    "    price_l = re.findall('[0-9]+,[0-9]+', price_l_raw)\n",
    "    price_liter = re.sub(',', '.', price_l[0])\n",
    "    return float(price_liter)\n",
    "\n",
    "\n",
    "# function to get title of carrefour beers\n",
    "def get_title_carrefour(data_text):\n",
    "    title_raw = data_text.text\n",
    "    title = re.sub(\"\\n\", '', title_raw)\n",
    "    return title\n",
    "\n",
    "\n",
    "# function to get promotions of carrefour beers\n",
    "def get_promotion_carrefour(data_text):\n",
    "    promotion_raw = data_text.text\n",
    "    promotion = re.sub(\"\\n\", '', promotion_raw)\n",
    "    return promotion\n",
    "\n",
    "\n",
    "# function to get brand of carrefour beers\n",
    "def get_brand_carrefour(data_text):\n",
    "    brand_raw = data_text.text\n",
    "    brand = re.split('(Cerveza )|( pack)|( botella)|( lata)+|(cl)', brand_raw)\n",
    "    return brand[6].lower()\n",
    "\n",
    "\n",
    "# function to get tye of the container of carrefour beers\n",
    "def get_container(data_text):\n",
    "    container_raw = data_text.text\n",
    "    container = re.findall('botella|lata|barril', container_raw)\n",
    "    if len(container) != 0:\n",
    "        return container[0]\n",
    "    else:\n",
    "        return 'No specified'\n",
    "\n",
    "\n",
    "# function to get volume per unit of carrefour beers\n",
    "def get_volumen_unid_carrefour(data_text):\n",
    "    volumen_raw = data_text.text\n",
    "    volumen = re.findall('[0-9,.]+ cl', volumen_raw)\n",
    "    if len(volumen) != 0:\n",
    "        return volumen[0]\n",
    "    else:\n",
    "        volumen_l = re.findall('[0-9,.]+[ mcl]+', volumen_raw)\n",
    "        return volumen_l[0]\n",
    "\n",
    "\n",
    "# function to get quantity per pack of carrefour beers\n",
    "def get_quantity_pack(data_text):\n",
    "    quantity_raw = data_text.text\n",
    "    quantity_split = re.split('pack de|pack', quantity_raw)\n",
    "    if len(quantity_split) == 2:\n",
    "        quantity = re.findall('[0-9]+', quantity_split[1])\n",
    "        return quantity[0]\n",
    "    else:\n",
    "        return 1\n",
    "\n",
    "\n",
    "# function to get image of carrefour beers\n",
    "def get_image_carrefour(data_text):\n",
    "    return data_text.find_all('img')[0].get('src')\n",
    "\n",
    "\n",
    "# function to get dataframe of carrefour beers with all information\n",
    "def database_carrefour(data_raw_carrefour):\n",
    "    data_beer_carrefour = pd.DataFrame(index=range(0, len(data_raw_carrefour)),\n",
    "                                       columns=['price', 'price_liter', 'title', 'promotion', 'brand',\n",
    "                                                'container', 'volumen_unid', 'quantity_pack', 'image_url',\n",
    "                                                'supermarket'])\n",
    "    for beer_number in range(len(data_raw_carrefour)):\n",
    "        data_beer_carrefour.iloc[beer_number, 0] = get_price_carrefour(data_raw_carrefour[beer_number][1])\n",
    "        data_beer_carrefour.iloc[beer_number, 1] = get_price_l_carrefour(data_raw_carrefour[beer_number][2])\n",
    "        data_beer_carrefour.iloc[beer_number, 2] = get_title_carrefour(data_raw_carrefour[beer_number][3])\n",
    "        data_beer_carrefour.iloc[beer_number, 4] = get_brand_carrefour(data_raw_carrefour[beer_number][3])\n",
    "        data_beer_carrefour.iloc[beer_number, 5] = get_container(data_raw_carrefour[beer_number][3])\n",
    "        data_beer_carrefour.iloc[beer_number, 6] = get_volumen_unid_carrefour(data_raw_carrefour[beer_number][3])\n",
    "        data_beer_carrefour.iloc[beer_number, 7] = get_quantity_pack(data_raw_carrefour[beer_number][3])\n",
    "        data_beer_carrefour.iloc[beer_number, 8] = get_image_carrefour(data_raw_carrefour[beer_number][0])\n",
    "        data_beer_carrefour.iloc[beer_number, 9] = 'Carrefour'\n",
    "        if len(data_raw_carrefour[beer_number]) > 4:\n",
    "            data_beer_carrefour.iloc[beer_number, 3] = get_promotion_carrefour(data_raw_carrefour[beer_number][4])\n",
    "        else:\n",
    "            data_beer_carrefour.iloc[beer_number, 3] = 'No promotion'\n",
    "    return data_beer_carrefour\n"
   ]
  },
  {
   "cell_type": "code",
   "execution_count": null,
   "metadata": {},
   "outputs": [],
   "source": []
  }
 ],
 "metadata": {
  "kernelspec": {
   "display_name": "Python [conda env:app_env]",
   "language": "python",
   "name": "conda-env-app_env-py"
  },
  "language_info": {
   "codemirror_mode": {
    "name": "ipython",
    "version": 3
   },
   "file_extension": ".py",
   "mimetype": "text/x-python",
   "name": "python",
   "nbconvert_exporter": "python",
   "pygments_lexer": "ipython3",
   "version": "3.8.8"
  }
 },
 "nbformat": 4,
 "nbformat_minor": 4
}
