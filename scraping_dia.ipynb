{
 "cells": [
  {
   "cell_type": "markdown",
   "metadata": {},
   "source": [
    "# Scraping DIA"
   ]
  },
  {
   "cell_type": "code",
   "execution_count": 3,
   "metadata": {},
   "outputs": [],
   "source": [
    "import pandas as pd\n",
    "import requests\n",
    "from bs4 import BeautifulSoup\n",
    "import re\n",
    "import time"
   ]
  },
  {
   "cell_type": "code",
   "execution_count": 4,
   "metadata": {},
   "outputs": [],
   "source": [
    "HEADER = {\"User-Agent\": \"Mozilla/5.0 (X11; CrOS x86_64 12871.102.0) AppleWebKit/537.36 (KHTML, like Gecko) \"\n",
    "                        \"Chrome/90.0.4430.85 Safari/537.36\"}"
   ]
  },
  {
   "cell_type": "code",
   "execution_count": 60,
   "metadata": {},
   "outputs": [],
   "source": [
    "# List of products included in the analysis by url\n",
    "\n",
    "dia_url_dict = {101: f'https://www.dia.es/compra-online/al-dia/verduras-y-hortalizas/tomates-pimientos-y-pepinos/p/170524',\n",
    "                102: f'https://www.dia.es/compra-online/al-dia/frutas/platanos/p/170563',\n",
    "                103: f'https://www.dia.es/compra-online/al-dia/frutas/manzanas/p/271644',\n",
    "                104: f'https://www.dia.es/compra-online/al-dia/verduras-y-hortalizas/calabacin-calabaza-y-berenjena/p/190696', \n",
    "                105: f'https://www.dia.es/compra-online/al-dia/verduras-y-hortalizas/patatas-y-zanahorias/p/170530'}\n",
    "                #703: f'https://www.dia.es/compra-online/despensa/lacteos-y-huevos/bebidas-vegetales/p/270828',\n",
    "                #705: f'https://www.dia.es/compra-online/despensa/lacteos-y-huevos/leche/p/141031',\n",
    "                #1201: f'https://www.dia.es/compra-online/bebidas/cervezas/nacionales/p/14752'}"
   ]
  },
  {
   "cell_type": "code",
   "execution_count": 10,
   "metadata": {},
   "outputs": [],
   "source": [
    "#Tomate en rama\n",
    "url_dia = f'https://www.dia.es/compra-online/al-dia/verduras-y-hortalizas/tomates-pimientos-y-pepinos/p/170524'\n",
    "html = requests.get(url_dia, headers=HEADER).text\n",
    "soup_dia = BeautifulSoup(html, 'lxml')\n",
    "price_dia_tomate = soup_dia.find('span', {'class': 'average-price'}).text\n",
    "price = re.findall('[0-9,]+', price_dia_tomate)\n",
    "if len(price) == 1:\n",
    "    price = float(re.sub(\",\", '.', price[0]))\n",
    "else:\n",
    "    price = float(re.sub(\",\", '.', price[1]))"
   ]
  },
  {
   "cell_type": "code",
   "execution_count": 54,
   "metadata": {},
   "outputs": [
    {
     "data": {
      "text/plain": [
       "'€/Kg.'"
      ]
     },
     "execution_count": 54,
     "metadata": {},
     "output_type": "execute_result"
    }
   ],
   "source": [
    "unidad = re.findall('(\\€.*)', price_dia_tomate)[0]\n",
    "unidad"
   ]
  },
  {
   "cell_type": "code",
   "execution_count": 70,
   "metadata": {},
   "outputs": [],
   "source": [
    "def updating_dia():\n",
    "    \n",
    "    #This function creates a tiny dataframe with the product's prices updated and dated every time it runs. Raws will be added to the main database.\n",
    "    \n",
    "    update_dia_dataframe = pd.DataFrame(columns=['id', 'producto', 'tienda', 'precio', 'unidad', 'fecha'])\n",
    "    tienda = 'Dia'\n",
    "    fecha = time.strftime('%A %H:%M %d-%m-%Y')\n",
    "    products_dict = {101: 'tomate ensalada', 102: 'plátano canario', 103: 'manzana royal', 104: 'calabacín', 105: 'zanahoria', 106: 'patata blanca'}\n",
    "    \n",
    "    print('Starting to scrape Dia...')\n",
    "    \n",
    "    for product_id, url in dia_url_dict.items():\n",
    "        print(url)\n",
    "        time.sleep(5)\n",
    "        html = requests.get(url, headers=HEADER).text\n",
    "        soup_dia = BeautifulSoup(html, 'lxml')\n",
    "        price_dia = soup_dia.find('span', {'class': 'average-price'})\n",
    "        \n",
    "        if price_dia is None:\n",
    "            precio = 'No disponible'\n",
    "            unidad = 'No disponible'\n",
    "        else:\n",
    "            price_dia = price_dia.text\n",
    "            price = re.findall('[0-9,]+', price_dia)\n",
    "            if len(price) == 1:\n",
    "                precio = float(re.sub(\",\", '.', price[0]))\n",
    "            else:\n",
    "                precio = float(re.sub(\",\", '.', price[1]))\n",
    "\n",
    "            unidad = re.findall('(\\€.*)', price_dia_tomate)[0]\n",
    "\n",
    "        print(product_id, '--', precio, '--', unidad)\n",
    "\n",
    "        producto = [v for k, v in products_dict.items() if k == product_id]\n",
    "        \n",
    "        # Adding new line to the dataframe\n",
    "        update_dia_dataframe.loc[len(update_dia_dataframe)] = [product_id, producto[0], tienda, precio, unidad, fecha]\n",
    "    \n",
    "    return update_dia_dataframe"
   ]
  },
  {
   "cell_type": "code",
   "execution_count": 71,
   "metadata": {},
   "outputs": [
    {
     "name": "stdout",
     "output_type": "stream",
     "text": [
      "Starting to scrape Dia...\n",
      "https://www.dia.es/compra-online/al-dia/verduras-y-hortalizas/tomates-pimientos-y-pepinos/p/170524\n",
      "101 -- 3.05 -- €/Kg.\n",
      "https://www.dia.es/compra-online/al-dia/frutas/platanos/p/170563\n",
      "102 -- 2.59 -- €/Kg.\n",
      "https://www.dia.es/compra-online/al-dia/frutas/manzanas/p/271644\n",
      "103 -- No disponible -- None\n",
      "https://www.dia.es/compra-online/al-dia/verduras-y-hortalizas/calabacin-calabaza-y-berenjena/p/190696\n",
      "104 -- 3.08 -- €/Kg.\n",
      "https://www.dia.es/compra-online/al-dia/verduras-y-hortalizas/patatas-y-zanahorias/p/170530\n",
      "105 -- 2.58 -- €/Kg.\n"
     ]
    },
    {
     "data": {
      "text/html": [
       "<div>\n",
       "<style scoped>\n",
       "    .dataframe tbody tr th:only-of-type {\n",
       "        vertical-align: middle;\n",
       "    }\n",
       "\n",
       "    .dataframe tbody tr th {\n",
       "        vertical-align: top;\n",
       "    }\n",
       "\n",
       "    .dataframe thead th {\n",
       "        text-align: right;\n",
       "    }\n",
       "</style>\n",
       "<table border=\"1\" class=\"dataframe\">\n",
       "  <thead>\n",
       "    <tr style=\"text-align: right;\">\n",
       "      <th></th>\n",
       "      <th>id</th>\n",
       "      <th>producto</th>\n",
       "      <th>tienda</th>\n",
       "      <th>precio</th>\n",
       "      <th>unidad</th>\n",
       "      <th>fecha</th>\n",
       "    </tr>\n",
       "  </thead>\n",
       "  <tbody>\n",
       "    <tr>\n",
       "      <th>0</th>\n",
       "      <td>101</td>\n",
       "      <td>tomate ensalada</td>\n",
       "      <td>Dia</td>\n",
       "      <td>3.05</td>\n",
       "      <td>€/Kg.</td>\n",
       "      <td>Tuesday 10:46 08-06-2021</td>\n",
       "    </tr>\n",
       "    <tr>\n",
       "      <th>1</th>\n",
       "      <td>102</td>\n",
       "      <td>plátano canario</td>\n",
       "      <td>Dia</td>\n",
       "      <td>2.59</td>\n",
       "      <td>€/Kg.</td>\n",
       "      <td>Tuesday 10:46 08-06-2021</td>\n",
       "    </tr>\n",
       "    <tr>\n",
       "      <th>2</th>\n",
       "      <td>103</td>\n",
       "      <td>manzana royal</td>\n",
       "      <td>Dia</td>\n",
       "      <td>No disponible</td>\n",
       "      <td>None</td>\n",
       "      <td>Tuesday 10:46 08-06-2021</td>\n",
       "    </tr>\n",
       "    <tr>\n",
       "      <th>3</th>\n",
       "      <td>104</td>\n",
       "      <td>calabacín</td>\n",
       "      <td>Dia</td>\n",
       "      <td>3.08</td>\n",
       "      <td>€/Kg.</td>\n",
       "      <td>Tuesday 10:46 08-06-2021</td>\n",
       "    </tr>\n",
       "    <tr>\n",
       "      <th>4</th>\n",
       "      <td>105</td>\n",
       "      <td>zanahoria</td>\n",
       "      <td>Dia</td>\n",
       "      <td>2.58</td>\n",
       "      <td>€/Kg.</td>\n",
       "      <td>Tuesday 10:46 08-06-2021</td>\n",
       "    </tr>\n",
       "  </tbody>\n",
       "</table>\n",
       "</div>"
      ],
      "text/plain": [
       "    id         producto tienda         precio unidad                     fecha\n",
       "0  101  tomate ensalada    Dia           3.05  €/Kg.  Tuesday 10:46 08-06-2021\n",
       "1  102  plátano canario    Dia           2.59  €/Kg.  Tuesday 10:46 08-06-2021\n",
       "2  103    manzana royal    Dia  No disponible   None  Tuesday 10:46 08-06-2021\n",
       "3  104        calabacín    Dia           3.08  €/Kg.  Tuesday 10:46 08-06-2021\n",
       "4  105        zanahoria    Dia           2.58  €/Kg.  Tuesday 10:46 08-06-2021"
      ]
     },
     "execution_count": 71,
     "metadata": {},
     "output_type": "execute_result"
    }
   ],
   "source": [
    "updating_dia()"
   ]
  },
  {
   "cell_type": "code",
   "execution_count": 72,
   "metadata": {},
   "outputs": [],
   "source": [
    "def updating_dia_B():\n",
    "    \n",
    "    #This function creates a tiny dataframe with the product's prices updated and dated every time it runs. Raws will be added to the main database.\n",
    "    new_prices_list = []\n",
    "    tienda = 'Dia'\n",
    "    fecha = time.strftime('%A %H:%M %d-%m-%Y')\n",
    "    products_dict = {101: 'tomate ensalada', 102: 'plátano canario', 103: 'manzana royal', 104: 'calabacín', 105: 'zanahoria', 106: 'patata blanca'}\n",
    "    \n",
    "    print('Starting to scrape Dia...')\n",
    "    \n",
    "    for product_id, url in dia_url_dict.items():\n",
    "        print(url)\n",
    "        time.sleep(5)\n",
    "        html = requests.get(url, headers=HEADER).text\n",
    "        soup_dia = BeautifulSoup(html, 'lxml')\n",
    "        price_dia = soup_dia.find('span', {'class': 'average-price'})\n",
    "        \n",
    "        if price_dia is None:\n",
    "            precio = 'No disponible'\n",
    "            unidad = 'No disponible'\n",
    "        else:\n",
    "            price_dia = price_dia.text\n",
    "            price = re.findall('[0-9,]+', price_dia)\n",
    "            if len(price) == 1:\n",
    "                precio = float(re.sub(\",\", '.', price[0]))\n",
    "            else:\n",
    "                precio = float(re.sub(\",\", '.', price[1]))\n",
    "\n",
    "            unidad = re.findall('(\\€.*)', price_dia_tomate)[0]\n",
    "\n",
    "        print(product_id, '--', precio, '--', unidad)\n",
    "\n",
    "        producto = [v for k, v in products_dict.items() if k == product_id]\n",
    "        \n",
    "        # Adding new line to the dataframe\n",
    "        new_prices_list.append([product_id, producto[0], tienda, precio, unidad, fecha])\n",
    "    \n",
    "    update_dia_dataframe = pd.DataFrame(columns=['id', 'producto', 'tienda', 'precio', 'unidad', 'fecha'])\n",
    "    \n",
    "    return update_dia_dataframe"
   ]
  },
  {
   "cell_type": "code",
   "execution_count": 77,
   "metadata": {},
   "outputs": [
    {
     "name": "stdout",
     "output_type": "stream",
     "text": [
      "Starting to scrape Dia...\n",
      "https://www.dia.es/compra-online/al-dia/verduras-y-hortalizas/tomates-pimientos-y-pepinos/p/170524\n",
      "101 -- 3.05 -- €/Kg.\n",
      "https://www.dia.es/compra-online/al-dia/frutas/platanos/p/170563\n",
      "102 -- 2.59 -- €/Kg.\n",
      "https://www.dia.es/compra-online/al-dia/frutas/manzanas/p/271644\n",
      "103 -- No disponible -- No disponible\n",
      "https://www.dia.es/compra-online/al-dia/verduras-y-hortalizas/calabacin-calabaza-y-berenjena/p/190696\n",
      "104 -- 3.08 -- €/Kg.\n",
      "https://www.dia.es/compra-online/al-dia/verduras-y-hortalizas/patatas-y-zanahorias/p/170530\n",
      "105 -- 2.58 -- €/Kg.\n"
     ]
    },
    {
     "data": {
      "text/html": [
       "<div>\n",
       "<style scoped>\n",
       "    .dataframe tbody tr th:only-of-type {\n",
       "        vertical-align: middle;\n",
       "    }\n",
       "\n",
       "    .dataframe tbody tr th {\n",
       "        vertical-align: top;\n",
       "    }\n",
       "\n",
       "    .dataframe thead th {\n",
       "        text-align: right;\n",
       "    }\n",
       "</style>\n",
       "<table border=\"1\" class=\"dataframe\">\n",
       "  <thead>\n",
       "    <tr style=\"text-align: right;\">\n",
       "      <th></th>\n",
       "      <th>id</th>\n",
       "      <th>producto</th>\n",
       "      <th>tienda</th>\n",
       "      <th>precio</th>\n",
       "      <th>unidad</th>\n",
       "      <th>fecha</th>\n",
       "    </tr>\n",
       "  </thead>\n",
       "  <tbody>\n",
       "  </tbody>\n",
       "</table>\n",
       "</div>"
      ],
      "text/plain": [
       "Empty DataFrame\n",
       "Columns: [id, producto, tienda, precio, unidad, fecha]\n",
       "Index: []"
      ]
     },
     "execution_count": 77,
     "metadata": {},
     "output_type": "execute_result"
    }
   ],
   "source": [
    "updating_dia_B()"
   ]
  },
  {
   "cell_type": "code",
   "execution_count": null,
   "metadata": {},
   "outputs": [],
   "source": []
  }
 ],
 "metadata": {
  "kernelspec": {
   "display_name": "Python [conda env:app_env]",
   "language": "python",
   "name": "conda-env-app_env-py"
  },
  "language_info": {
   "codemirror_mode": {
    "name": "ipython",
    "version": 3
   },
   "file_extension": ".py",
   "mimetype": "text/x-python",
   "name": "python",
   "nbconvert_exporter": "python",
   "pygments_lexer": "ipython3",
   "version": "3.8.8"
  }
 },
 "nbformat": 4,
 "nbformat_minor": 4
}
