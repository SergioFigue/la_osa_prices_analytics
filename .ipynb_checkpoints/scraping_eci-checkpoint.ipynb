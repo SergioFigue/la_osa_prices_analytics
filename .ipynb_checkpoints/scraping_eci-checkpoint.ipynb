{
 "cells": [
  {
   "cell_type": "markdown",
   "metadata": {},
   "source": [
    "# Scraping ECI"
   ]
  },
  {
   "cell_type": "code",
   "execution_count": 11,
   "metadata": {},
   "outputs": [],
   "source": [
    "import pandas as pd\n",
    "import requests\n",
    "from bs4 import BeautifulSoup\n",
    "import re\n",
    "import time\n",
    "from selenium import webdriver\n",
    "import urllib.request"
   ]
  },
  {
   "cell_type": "code",
   "execution_count": 2,
   "metadata": {},
   "outputs": [],
   "source": [
    "HEADER = {\"User-Agent\": \"Mozilla/5.0 (X11; CrOS x86_64 12871.102.0) AppleWebKit/537.36 (KHTML, like Gecko) \"\n",
    "                        \"Chrome/90.0.4430.85 Safari/537.36\"}"
   ]
  },
  {
   "cell_type": "code",
   "execution_count": 3,
   "metadata": {},
   "outputs": [],
   "source": [
    "eci_url_dict = {101: f'https://www.elcorteingles.es/supermercado/0110118164300305-solo-bio-tomate-ensalada-ecologico-500-g/',\n",
    "                102: f'https://www.elcorteingles.es/supermercado/0110118115100291-platano-igp-de-canarias-ecologico-bandeja-800-g-peso-aproximado/',\n",
    "                103: f'https://www.elcorteingles.es/supermercado/0110118115900310-la-huerta-manzana-royal-gala-ecologica-bandeja-800-g-peso-aproximado/',\n",
    "                104: f'https://www.elcorteingles.es/supermercado/0110118163600085-daleira-calabacin-ecologico-gallego-malla-700-g/', \n",
    "                105: f'https://www.elcorteingles.es/supermercado/0110118131400014-la-huerta-zanahoria-ecologica-bandeja-800-g-peso-aproximado/',\n",
    "                106: f'https://www.elcorteingles.es/supermercado/0110118173300072-ecopat-patata-ecologica-bolsa-2-kg/'}\n",
    "                #202: f'https://www.elcorteingles.es/supermercado/0110120703500148-el-granero-integral-bio-copos-de-avena-suave-integral-ecologicos-bolsa-1-kg/',\n",
    "                #301: f'https://www.elcorteingles.es/supermercado/0110120754701074-biocop-galletas-de-espelta-integral-con-chocolate-y-avellanas-ecologicas-envase-250-g/',\n",
    "                #302: f'https://www.elcorteingles.es/supermercado/0110120670802543-la-granja-mini-magdalenas-con-platano-y-choco-chips-bolsa-200-g/',\n",
    "                #303: f'https://www.elcorteingles.es/supermercado/0110120660904085-blanco-monjas-rosquillas-con-sabor-a-convento-bandeja-250-g/',\n",
    "                #304: f'https://www.elcorteingles.es/supermercado/0110120658601362-la-granja-bizcocho-marmol-ecologico-con-chocolate-bolsa-300-g/', \n",
    "                #401: f'https://www.elcorteingles.es/supermercado/0110118559700044-leon-the-baker-pan-hogaza-de-masa-madre-sin-gluten-envase-470-g/',\n",
    "                #501: f'https://www.elcorteingles.es/supermercado/0110120756400444-ethiquable-chocolate-negro-75-cacao-de-nicaragua-de-gran-reserva-de-waslala-ecologico-tableta-100-g/',          \n",
    "                #702: f'https://www.elcorteingles.es/supermercado/0110120728400134-soria-natural-bebida-de-avena-con-calcio-ecologica-sin-lactosa-1005-vegetal-envase-1-l/',\n",
    "                #704: f'https://www.elcorteingles.es/supermercado/0110118822300168-casa-grande-de-xanceda-yogur-con-fresas-desnatado-03-mg-sin-gluten-ecologico-pack-2-unidades-125-g/',\n",
    "                #705: f'https://www.elcorteingles.es/supermercado/0110120914100019-puleva-leche-semidesnatada-ecologica-brik-1-l/',\n",
    "                #707: f'https://www.elcorteingles.es/supermercado/0110118822400026-el-cantero-de-letur-kefir-de-cabra-natural-ecologico-tarro-420-g/',\n",
    "                #802: f'https://www.elcorteingles.es/supermercado/0110120731100135-pan-do-mar-mejillones-ecologicos-en-escabeche-ecologico-dop-mejillon-de-galicia-lata-115-g/',\n",
    "                #1001: f'https://www.elcorteingles.es/supermercado/0110118005700465-virgen-de-la-esperanza-arroz-redondo-dop-de-calasparra-envase-1-kg/',        \n",
    "                #1002: f'https://www.elcorteingles.es/supermercado/0110120755000179-virgen-de-la-esperanza-arroz-redondo-integral-de-calasparra-ecologico-sin-gluten-caja-1-kg/',\n",
    "                #1101: f'https://www.elcorteingles.es/supermercado/0110120760500122-intermon-oxfam-tierra-madre-cafe-molido-natural-ecologico-seleccionado-en-origen-paquete-250-g/',\n",
    "                #1201: f'https://www.elcorteingles.es/supermercado/0110118600300356-mahou-clasica-cerveza-rubia-original-lata-33-cl/'}"
   ]
  },
  {
   "cell_type": "code",
   "execution_count": 14,
   "metadata": {},
   "outputs": [
    {
     "name": "stdout",
     "output_type": "stream",
     "text": [
      "https://www.carrefour.es/supermercado/tomate-rama-ecologico-carrefour-bio-500-g-carrefour-bio/R-600709258/p?ic_source=food&ic_medium=undefined&ic_content=cat20002-productos-frescos\n"
     ]
    },
    {
     "ename": "WebDriverException",
     "evalue": "Message: Process unexpectedly closed with status 1\n",
     "output_type": "error",
     "traceback": [
      "\u001b[0;31m---------------------------------------------------------------------------\u001b[0m",
      "\u001b[0;31mWebDriverException\u001b[0m                        Traceback (most recent call last)",
      "\u001b[0;32m<ipython-input-14-3776d707b8be>\u001b[0m in \u001b[0;36m<module>\u001b[0;34m\u001b[0m\n\u001b[1;32m      4\u001b[0m \u001b[0mprint\u001b[0m\u001b[0;34m(\u001b[0m\u001b[0murlpage\u001b[0m\u001b[0;34m)\u001b[0m\u001b[0;34m\u001b[0m\u001b[0;34m\u001b[0m\u001b[0m\n\u001b[1;32m      5\u001b[0m \u001b[0;31m# run firefox webdriver from executable path of your choice\u001b[0m\u001b[0;34m\u001b[0m\u001b[0;34m\u001b[0m\u001b[0;34m\u001b[0m\u001b[0m\n\u001b[0;32m----> 6\u001b[0;31m \u001b[0mdriver\u001b[0m \u001b[0;34m=\u001b[0m \u001b[0mwebdriver\u001b[0m\u001b[0;34m.\u001b[0m\u001b[0mFirefox\u001b[0m\u001b[0;34m(\u001b[0m\u001b[0mexecutable_path\u001b[0m \u001b[0;34m=\u001b[0m \u001b[0;34m'/usr/bin/geckodriver'\u001b[0m\u001b[0;34m)\u001b[0m\u001b[0;34m\u001b[0m\u001b[0;34m\u001b[0m\u001b[0m\n\u001b[0m",
      "\u001b[0;32m~/miniconda3/envs/app_env/lib/python3.8/site-packages/selenium/webdriver/firefox/webdriver.py\u001b[0m in \u001b[0;36m__init__\u001b[0;34m(self, firefox_profile, firefox_binary, timeout, capabilities, proxy, executable_path, options, service_log_path, firefox_options, service_args, desired_capabilities, log_path, keep_alive)\u001b[0m\n\u001b[1;32m    168\u001b[0m             executor = FirefoxRemoteConnection(\n\u001b[1;32m    169\u001b[0m                 remote_server_addr=self.service.service_url)\n\u001b[0;32m--> 170\u001b[0;31m             RemoteWebDriver.__init__(\n\u001b[0m\u001b[1;32m    171\u001b[0m                 \u001b[0mself\u001b[0m\u001b[0;34m,\u001b[0m\u001b[0;34m\u001b[0m\u001b[0;34m\u001b[0m\u001b[0m\n\u001b[1;32m    172\u001b[0m                 \u001b[0mcommand_executor\u001b[0m\u001b[0;34m=\u001b[0m\u001b[0mexecutor\u001b[0m\u001b[0;34m,\u001b[0m\u001b[0;34m\u001b[0m\u001b[0;34m\u001b[0m\u001b[0m\n",
      "\u001b[0;32m~/miniconda3/envs/app_env/lib/python3.8/site-packages/selenium/webdriver/remote/webdriver.py\u001b[0m in \u001b[0;36m__init__\u001b[0;34m(self, command_executor, desired_capabilities, browser_profile, proxy, keep_alive, file_detector, options)\u001b[0m\n\u001b[1;32m    155\u001b[0m             warnings.warn(\"Please use FirefoxOptions to set browser profile\",\n\u001b[1;32m    156\u001b[0m                           DeprecationWarning, stacklevel=2)\n\u001b[0;32m--> 157\u001b[0;31m         \u001b[0mself\u001b[0m\u001b[0;34m.\u001b[0m\u001b[0mstart_session\u001b[0m\u001b[0;34m(\u001b[0m\u001b[0mcapabilities\u001b[0m\u001b[0;34m,\u001b[0m \u001b[0mbrowser_profile\u001b[0m\u001b[0;34m)\u001b[0m\u001b[0;34m\u001b[0m\u001b[0;34m\u001b[0m\u001b[0m\n\u001b[0m\u001b[1;32m    158\u001b[0m         \u001b[0mself\u001b[0m\u001b[0;34m.\u001b[0m\u001b[0m_switch_to\u001b[0m \u001b[0;34m=\u001b[0m \u001b[0mSwitchTo\u001b[0m\u001b[0;34m(\u001b[0m\u001b[0mself\u001b[0m\u001b[0;34m)\u001b[0m\u001b[0;34m\u001b[0m\u001b[0;34m\u001b[0m\u001b[0m\n\u001b[1;32m    159\u001b[0m         \u001b[0mself\u001b[0m\u001b[0;34m.\u001b[0m\u001b[0m_mobile\u001b[0m \u001b[0;34m=\u001b[0m \u001b[0mMobile\u001b[0m\u001b[0;34m(\u001b[0m\u001b[0mself\u001b[0m\u001b[0;34m)\u001b[0m\u001b[0;34m\u001b[0m\u001b[0;34m\u001b[0m\u001b[0m\n",
      "\u001b[0;32m~/miniconda3/envs/app_env/lib/python3.8/site-packages/selenium/webdriver/remote/webdriver.py\u001b[0m in \u001b[0;36mstart_session\u001b[0;34m(self, capabilities, browser_profile)\u001b[0m\n\u001b[1;32m    250\u001b[0m         parameters = {\"capabilities\": w3c_caps,\n\u001b[1;32m    251\u001b[0m                       \"desiredCapabilities\": capabilities}\n\u001b[0;32m--> 252\u001b[0;31m         \u001b[0mresponse\u001b[0m \u001b[0;34m=\u001b[0m \u001b[0mself\u001b[0m\u001b[0;34m.\u001b[0m\u001b[0mexecute\u001b[0m\u001b[0;34m(\u001b[0m\u001b[0mCommand\u001b[0m\u001b[0;34m.\u001b[0m\u001b[0mNEW_SESSION\u001b[0m\u001b[0;34m,\u001b[0m \u001b[0mparameters\u001b[0m\u001b[0;34m)\u001b[0m\u001b[0;34m\u001b[0m\u001b[0;34m\u001b[0m\u001b[0m\n\u001b[0m\u001b[1;32m    253\u001b[0m         \u001b[0;32mif\u001b[0m \u001b[0;34m'sessionId'\u001b[0m \u001b[0;32mnot\u001b[0m \u001b[0;32min\u001b[0m \u001b[0mresponse\u001b[0m\u001b[0;34m:\u001b[0m\u001b[0;34m\u001b[0m\u001b[0;34m\u001b[0m\u001b[0m\n\u001b[1;32m    254\u001b[0m             \u001b[0mresponse\u001b[0m \u001b[0;34m=\u001b[0m \u001b[0mresponse\u001b[0m\u001b[0;34m[\u001b[0m\u001b[0;34m'value'\u001b[0m\u001b[0;34m]\u001b[0m\u001b[0;34m\u001b[0m\u001b[0;34m\u001b[0m\u001b[0m\n",
      "\u001b[0;32m~/miniconda3/envs/app_env/lib/python3.8/site-packages/selenium/webdriver/remote/webdriver.py\u001b[0m in \u001b[0;36mexecute\u001b[0;34m(self, driver_command, params)\u001b[0m\n\u001b[1;32m    319\u001b[0m         \u001b[0mresponse\u001b[0m \u001b[0;34m=\u001b[0m \u001b[0mself\u001b[0m\u001b[0;34m.\u001b[0m\u001b[0mcommand_executor\u001b[0m\u001b[0;34m.\u001b[0m\u001b[0mexecute\u001b[0m\u001b[0;34m(\u001b[0m\u001b[0mdriver_command\u001b[0m\u001b[0;34m,\u001b[0m \u001b[0mparams\u001b[0m\u001b[0;34m)\u001b[0m\u001b[0;34m\u001b[0m\u001b[0;34m\u001b[0m\u001b[0m\n\u001b[1;32m    320\u001b[0m         \u001b[0;32mif\u001b[0m \u001b[0mresponse\u001b[0m\u001b[0;34m:\u001b[0m\u001b[0;34m\u001b[0m\u001b[0;34m\u001b[0m\u001b[0m\n\u001b[0;32m--> 321\u001b[0;31m             \u001b[0mself\u001b[0m\u001b[0;34m.\u001b[0m\u001b[0merror_handler\u001b[0m\u001b[0;34m.\u001b[0m\u001b[0mcheck_response\u001b[0m\u001b[0;34m(\u001b[0m\u001b[0mresponse\u001b[0m\u001b[0;34m)\u001b[0m\u001b[0;34m\u001b[0m\u001b[0;34m\u001b[0m\u001b[0m\n\u001b[0m\u001b[1;32m    322\u001b[0m             response['value'] = self._unwrap_value(\n\u001b[1;32m    323\u001b[0m                 response.get('value', None))\n",
      "\u001b[0;32m~/miniconda3/envs/app_env/lib/python3.8/site-packages/selenium/webdriver/remote/errorhandler.py\u001b[0m in \u001b[0;36mcheck_response\u001b[0;34m(self, response)\u001b[0m\n\u001b[1;32m    240\u001b[0m                 \u001b[0malert_text\u001b[0m \u001b[0;34m=\u001b[0m \u001b[0mvalue\u001b[0m\u001b[0;34m[\u001b[0m\u001b[0;34m'alert'\u001b[0m\u001b[0;34m]\u001b[0m\u001b[0;34m.\u001b[0m\u001b[0mget\u001b[0m\u001b[0;34m(\u001b[0m\u001b[0;34m'text'\u001b[0m\u001b[0;34m)\u001b[0m\u001b[0;34m\u001b[0m\u001b[0;34m\u001b[0m\u001b[0m\n\u001b[1;32m    241\u001b[0m             \u001b[0;32mraise\u001b[0m \u001b[0mexception_class\u001b[0m\u001b[0;34m(\u001b[0m\u001b[0mmessage\u001b[0m\u001b[0;34m,\u001b[0m \u001b[0mscreen\u001b[0m\u001b[0;34m,\u001b[0m \u001b[0mstacktrace\u001b[0m\u001b[0;34m,\u001b[0m \u001b[0malert_text\u001b[0m\u001b[0;34m)\u001b[0m\u001b[0;34m\u001b[0m\u001b[0;34m\u001b[0m\u001b[0m\n\u001b[0;32m--> 242\u001b[0;31m         \u001b[0;32mraise\u001b[0m \u001b[0mexception_class\u001b[0m\u001b[0;34m(\u001b[0m\u001b[0mmessage\u001b[0m\u001b[0;34m,\u001b[0m \u001b[0mscreen\u001b[0m\u001b[0;34m,\u001b[0m \u001b[0mstacktrace\u001b[0m\u001b[0;34m)\u001b[0m\u001b[0;34m\u001b[0m\u001b[0;34m\u001b[0m\u001b[0m\n\u001b[0m\u001b[1;32m    243\u001b[0m \u001b[0;34m\u001b[0m\u001b[0m\n\u001b[1;32m    244\u001b[0m     \u001b[0;32mdef\u001b[0m \u001b[0m_value_or_default\u001b[0m\u001b[0;34m(\u001b[0m\u001b[0mself\u001b[0m\u001b[0;34m,\u001b[0m \u001b[0mobj\u001b[0m\u001b[0;34m,\u001b[0m \u001b[0mkey\u001b[0m\u001b[0;34m,\u001b[0m \u001b[0mdefault\u001b[0m\u001b[0;34m)\u001b[0m\u001b[0;34m:\u001b[0m\u001b[0;34m\u001b[0m\u001b[0;34m\u001b[0m\u001b[0m\n",
      "\u001b[0;31mWebDriverException\u001b[0m: Message: Process unexpectedly closed with status 1\n"
     ]
    }
   ],
   "source": [
    "# Plan B with Selenium\n",
    "\n",
    "urlpage = 'https://www.elcorteingles.es/supermercado/0110118164300305-solo-bio-tomate-ensalada-ecologico-500-g/' \n",
    "print(urlpage)\n",
    "# run firefox webdriver from executable path of your choice\n",
    "driver = webdriver.Firefox(executable_path = '/usr/bin/geckodriver')\n"
   ]
  },
  {
   "cell_type": "code",
   "execution_count": null,
   "metadata": {},
   "outputs": [],
   "source": []
  },
  {
   "cell_type": "code",
   "execution_count": 2,
   "metadata": {},
   "outputs": [],
   "source": [
    "# Plan A with Beautifulsoup: ECI online shop uses javascript, thus the regular soup is not working. \n",
    "\n",
    "# url_eci = f'https://www.elcorteingles.es/supermercado/0110118115100291-platano-igp-de-canarias-ecologico-bandeja-800-g-peso-aproximado/'\n",
    "# html = requests.get(url_eci, headers=HEADER).text\n",
    "# soup_eci = BeautifulSoup(html, 'lxml')\n",
    "# price_eci = soup_eci.find('div', {'class': 'prices-price _pum'}).text\n",
    "# precio = re.findall('[0-9,]+', price_eci)[0].replace(',',('.'))\n",
    "# unidad = re.findall('(\\€.*)\\)', price_eci)[0]\n",
    "# precio, unidad"
   ]
  },
  {
   "cell_type": "code",
   "execution_count": 5,
   "metadata": {},
   "outputs": [
    {
     "data": {
      "text/plain": [
       "<!DOCTYPE html>\n",
       "<html>\n",
       "<head>\n",
       "<meta charset=\"utf-8\"/>\n",
       "<meta content=\"width=device-width, initial-scale=1, shrink-to-fit=no\" name=\"viewport\"/>\n",
       "<title>Challenge Validation</title>\n",
       "<link href=\"/_sec/cp_challenge/sec-3-5.css\" rel=\"stylesheet\" type=\"text/css\"/>\n",
       "<script type=\"text/javascript\">function cp_clge_done(){location.reload(true);}</script>\n",
       "<script async=\"\" defer=\"\" src=\"/_sec/cp_challenge/sec-cpt-int-3-5.js\"></script>\n",
       "<script type=\"text/javascript\">sessionStorage.setItem('data-duration', 5);</script>\n",
       "</head>\n",
       "<body>\n",
       "<div class=\"sec-container\">\n",
       "<div id=\"sec-text-container\"><iframe class=\"custmsg\" id=\"sec-text-if\" src=\"https://beta.elcorteingles.es/sgfm/statics/eci_non_food/contents/cc/cca.html\"></iframe></div>\n",
       "<div id=\"sec-if-container\">\n",
       "<iframe class=\"crypto\" data-duration=\"5\" data-key=\"\" id=\"sec-cpt-if\" src=\"/_sec/cp_challenge/ak-challenge-3-5.htm\"></iframe>\n",
       "</div>\n",
       "</div>\n",
       "</body>\n",
       "</html>"
      ]
     },
     "execution_count": 5,
     "metadata": {},
     "output_type": "execute_result"
    }
   ],
   "source": [
    "soup_eci"
   ]
  }
 ],
 "metadata": {
  "kernelspec": {
   "display_name": "Python [conda env:app_env]",
   "language": "python",
   "name": "conda-env-app_env-py"
  },
  "language_info": {
   "codemirror_mode": {
    "name": "ipython",
    "version": 3
   },
   "file_extension": ".py",
   "mimetype": "text/x-python",
   "name": "python",
   "nbconvert_exporter": "python",
   "pygments_lexer": "ipython3",
   "version": "3.8.8"
  }
 },
 "nbformat": 4,
 "nbformat_minor": 4
}
