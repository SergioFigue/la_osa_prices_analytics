{
 "cells": [
  {
   "cell_type": "markdown",
   "metadata": {},
   "source": [
    "# Main Table"
   ]
  },
  {
   "cell_type": "code",
   "execution_count": 32,
   "metadata": {},
   "outputs": [],
   "source": [
    "import pandas as pd\n",
    "import time"
   ]
  },
  {
   "cell_type": "code",
   "execution_count": 22,
   "metadata": {},
   "outputs": [],
   "source": [
    "fecha = time.strftime('%A %H:%M %d-%m-%Y)')"
   ]
  },
  {
   "cell_type": "code",
   "execution_count": 36,
   "metadata": {},
   "outputs": [],
   "source": [
    "main_table_dict = {'id': [101, 102, 103, 104, 105, 106], \n",
    "                'producto': ['tomate ensalada', 'plátano canario', 'manzana royal', 'calabacín', 'zanahoria', 'patata blanca'], \n",
    "                'tienda': ['La Osa', 'La Osa', 'La Osa', 'La Osa', 'La Osa', 'La Osa'], \n",
    "                'precio': ['3.65', '1.90', '3.55', '0.95', '1.70', '1.65'], \n",
    "                'unidad': ['€/kg.', '€/kg.', '€/kg.', '€/kg.', '€/kg.', '€/kg.'],\n",
    "                'fecha': [fecha, fecha, fecha, fecha, fecha, fecha]}"
   ]
  },
  {
   "cell_type": "code",
   "execution_count": 37,
   "metadata": {},
   "outputs": [
    {
     "data": {
      "text/html": [
       "<div>\n",
       "<style scoped>\n",
       "    .dataframe tbody tr th:only-of-type {\n",
       "        vertical-align: middle;\n",
       "    }\n",
       "\n",
       "    .dataframe tbody tr th {\n",
       "        vertical-align: top;\n",
       "    }\n",
       "\n",
       "    .dataframe thead th {\n",
       "        text-align: right;\n",
       "    }\n",
       "</style>\n",
       "<table border=\"1\" class=\"dataframe\">\n",
       "  <thead>\n",
       "    <tr style=\"text-align: right;\">\n",
       "      <th></th>\n",
       "      <th>id</th>\n",
       "      <th>producto</th>\n",
       "      <th>tienda</th>\n",
       "      <th>precio</th>\n",
       "      <th>unidad</th>\n",
       "      <th>fecha</th>\n",
       "    </tr>\n",
       "  </thead>\n",
       "  <tbody>\n",
       "    <tr>\n",
       "      <th>0</th>\n",
       "      <td>101</td>\n",
       "      <td>tomate ensalada</td>\n",
       "      <td>La Osa</td>\n",
       "      <td>3.65</td>\n",
       "      <td>€/kg.</td>\n",
       "      <td>Monday 09:51 07-06-2021)</td>\n",
       "    </tr>\n",
       "    <tr>\n",
       "      <th>1</th>\n",
       "      <td>102</td>\n",
       "      <td>plátano canario</td>\n",
       "      <td>La Osa</td>\n",
       "      <td>1.90</td>\n",
       "      <td>€/kg.</td>\n",
       "      <td>Monday 09:51 07-06-2021)</td>\n",
       "    </tr>\n",
       "    <tr>\n",
       "      <th>2</th>\n",
       "      <td>103</td>\n",
       "      <td>manzana royal</td>\n",
       "      <td>La Osa</td>\n",
       "      <td>3.55</td>\n",
       "      <td>€/kg.</td>\n",
       "      <td>Monday 09:51 07-06-2021)</td>\n",
       "    </tr>\n",
       "    <tr>\n",
       "      <th>3</th>\n",
       "      <td>104</td>\n",
       "      <td>calabacín</td>\n",
       "      <td>La Osa</td>\n",
       "      <td>0.95</td>\n",
       "      <td>€/kg.</td>\n",
       "      <td>Monday 09:51 07-06-2021)</td>\n",
       "    </tr>\n",
       "    <tr>\n",
       "      <th>4</th>\n",
       "      <td>105</td>\n",
       "      <td>zanahoria</td>\n",
       "      <td>La Osa</td>\n",
       "      <td>1.70</td>\n",
       "      <td>€/kg.</td>\n",
       "      <td>Monday 09:51 07-06-2021)</td>\n",
       "    </tr>\n",
       "    <tr>\n",
       "      <th>5</th>\n",
       "      <td>106</td>\n",
       "      <td>patata blanca</td>\n",
       "      <td>La Osa</td>\n",
       "      <td>1.65</td>\n",
       "      <td>€/kg.</td>\n",
       "      <td>Monday 09:51 07-06-2021)</td>\n",
       "    </tr>\n",
       "  </tbody>\n",
       "</table>\n",
       "</div>"
      ],
      "text/plain": [
       "    id         producto  tienda precio unidad                     fecha\n",
       "0  101  tomate ensalada  La Osa   3.65  €/kg.  Monday 09:51 07-06-2021)\n",
       "1  102  plátano canario  La Osa   1.90  €/kg.  Monday 09:51 07-06-2021)\n",
       "2  103    manzana royal  La Osa   3.55  €/kg.  Monday 09:51 07-06-2021)\n",
       "3  104        calabacín  La Osa   0.95  €/kg.  Monday 09:51 07-06-2021)\n",
       "4  105        zanahoria  La Osa   1.70  €/kg.  Monday 09:51 07-06-2021)\n",
       "5  106    patata blanca  La Osa   1.65  €/kg.  Monday 09:51 07-06-2021)"
      ]
     },
     "execution_count": 37,
     "metadata": {},
     "output_type": "execute_result"
    }
   ],
   "source": [
    "pd.DataFrame.from_dict(main_table_dict)"
   ]
  },
  {
   "cell_type": "code",
   "execution_count": null,
   "metadata": {},
   "outputs": [],
   "source": []
  }
 ],
 "metadata": {
  "kernelspec": {
   "display_name": "Python [conda env:app_env]",
   "language": "python",
   "name": "conda-env-app_env-py"
  },
  "language_info": {
   "codemirror_mode": {
    "name": "ipython",
    "version": 3
   },
   "file_extension": ".py",
   "mimetype": "text/x-python",
   "name": "python",
   "nbconvert_exporter": "python",
   "pygments_lexer": "ipython3",
   "version": "3.8.8"
  }
 },
 "nbformat": 4,
 "nbformat_minor": 4
}
