{
 "cells": [
  {
   "cell_type": "markdown",
   "metadata": {},
   "source": [
    "# Scraping Alcampo"
   ]
  },
  {
   "cell_type": "code",
   "execution_count": 1,
   "metadata": {},
   "outputs": [],
   "source": [
    "import pandas as pd\n",
    "import requests\n",
    "from bs4 import BeautifulSoup\n",
    "import re\n",
    "import time"
   ]
  },
  {
   "cell_type": "code",
   "execution_count": 2,
   "metadata": {},
   "outputs": [],
   "source": [
    "HEADER = {\"User-Agent\": \"Mozilla/5.0 (X11; CrOS x86_64 12871.102.0) AppleWebKit/537.36 (KHTML, like Gecko) \"\n",
    "                        \"Chrome/90.0.4430.85 Safari/537.36\"}"
   ]
  },
  {
   "cell_type": "code",
   "execution_count": 30,
   "metadata": {},
   "outputs": [],
   "source": [
    "alcampo_url_dict = {101: f'https://www.alcampo.es/compra-online/frescos/verduras-y-hortalizas/verduras-ecologicas/hortaliza-ecologica-tomate-de-ensalada-ecologico-600g/p/55576',\n",
    "                102: f'https://www.alcampo.es/compra-online/alimentacion/ecologicos/productos-frescos-ecologicos/frutas-y-verduras-ecologicas/frutas-ecologicas/fruta-ecologica-platanos-ecologicos-bandeja-de-800-g/p/57540',\n",
    "                103: f'https://www.alcampo.es/compra-online/frescos/frutas/frutas-ecologicas/fruta-manzanas-royal-ecologica-800-g/p/57561',\n",
    "                104: f'https://www.alcampo.es/compra-online/frescos/verduras-y-hortalizas/verduras-ecologicas/hortaliza-ecologica-calabacin-ecologico-600-g/p/55542', \n",
    "                105: f'https://www.alcampo.es/compra-online/frescos/verduras-y-hortalizas/verduras-ecologicas/alcampo-produccion-controlada-ecologico-zanahoria-ecologico-700-g/p/58394',\n",
    "                106: f'https://www.alcampo.es/compra-online/frescos/verduras-y-hortalizas/verduras-ecologicas/alcampo-produccion-controlada-ecologico-patata-ecologica-malla-de-2-kg/p/58396'}\n",
    "                #302: f'https://www.alcampo.es/compra-online/alimentacion/desayuno-y-merienda/bolleria-y-pasteleria/croissants-magdalenas-y-muffins/magdalenas/la-granja-mini-magdalenas-ecologicas-chocochip-con-yogur-200-g/p/563256',\n",
    "                #303: f'https://www.alcampo.es/compra-online/alimentacion/desayuno-y-merienda/bolleria-y-pasteleria/rosquillas-y-sobaos/rosquillas/monjas-rosquillas-250-g/p/13606',\n",
    "                #304: f'https://www.alcampo.es/compra-online/alimentacion/alimentos-especiales-/alimentos-especiales/dulces-y-desayunos/bolleria/la-granja-bizcocho-marmol-ecologico-300-g/p/801212', \n",
    "                #702: f'https://www.alcampo.es/compra-online/alimentacion/alimentos-especiales-/alimentos-especiales/bebidas-soja-avena-y-arroz/bebidas-de-avena/soria-natural-bebida-de-avena-1-l/p/12207',\n",
    "                #704: f'https://www.alcampo.es/compra-online/alimentacion/leche-huevos-yogures-y-lacteos/yogures-bifidus-y-lcasei/desnatado/sabores/casa-grande-de-xanceda-yogur-de-fresa-ecologico-2-uds-x-125-g/p/52971',\n",
    "                #705: f'https://www.alcampo.es/compra-online/alimentacion/ecologicos/productos-frescos-ecologicos/lacteos-quesos-y-huevos-ecologicos/leche-y-nata-ecologicas/puleva-eco-leche-semidesnatada-ecologica-1-l/p/53042',\n",
    "                #707: f'https://www.alcampo.es/compra-online/alimentacion/ecologicos/productos-frescos-ecologicos/lacteos-quesos-y-huevos-ecologicos/kefir-ecologico/cantero-de-letur-kefir-de-cabra-bio-420-gramos/p/519624',\n",
    "                #1001: f'https://www.alcampo.es/compra-online/alimentacion/caldos-pasta-arroz-legumbres-pure/arroz/arroz-para-cocinar/calasparra-arroz-redondo-1-kg/p/25214',        \n",
    "                #1101: f'https://www.alcampo.es/compra-online/alimentacion/desayuno-y-merienda/cafessucedaneos-y-derivados-del-cacao/cafe-molido/molido-natural/intermon-oxfam-tierra-madre-cafe-molido-natural-250-g/p/16348',\n",
    "                #1201: f'https://www.alcampo.es/compra-online/bebidas/cervezas/lata-estandar/mahou-cerveza-33cl/p/30378'}"
   ]
  },
  {
   "cell_type": "code",
   "execution_count": 26,
   "metadata": {},
   "outputs": [],
   "source": [
    "url_alcampo = f'https://www.alcampo.es/compra-online/frescos/verduras-y-hortalizas/verduras-ecologicas/hortaliza-ecologica-tomate-de-ensalada-ecologico-600g/p/55576'\n",
    "html = requests.get(url_alcampo, headers=HEADER).text\n",
    "soup_alcampo = BeautifulSoup(html, 'lxml')\n",
    "price_alcampo = soup_alcampo.find('span', {'class': 'precioUnidad pesoVariable'}).text\n",
    "precio = re.findall('[0-9,]+', price_alcampo)[0].replace(',',('.'))\n",
    "unidad = re.findall('(\\€.*)\\)', price_alcampo)[0]"
   ]
  },
  {
   "cell_type": "code",
   "execution_count": 27,
   "metadata": {},
   "outputs": [
    {
     "data": {
      "text/plain": [
       "('3.81', '€/Kg')"
      ]
     },
     "execution_count": 27,
     "metadata": {},
     "output_type": "execute_result"
    }
   ],
   "source": [
    "precio, unidad"
   ]
  },
  {
   "cell_type": "code",
   "execution_count": 33,
   "metadata": {},
   "outputs": [],
   "source": [
    "def updating_alcampo():\n",
    "    \n",
    "    #This function creates a tiny dataframe with the product's prices updated and dated every time it runs. Raws will be added to the main database.\n",
    "    \n",
    "    update_alcampo_dataframe = pd.DataFrame(columns=['id', 'producto', 'tienda', 'precio', 'unidad', 'fecha'])\n",
    "    tienda = 'Alcampo'\n",
    "    fecha = time.strftime('%A %H:%M %d-%m-%Y')\n",
    "    \n",
    "    # Temporary list of product to match id. TO DO: products table\n",
    "    products_dict = {101: 'tomate ensalada', 102: 'plátano canario', 103: 'manzana royal', 104: 'calabacín', 105: 'zanahoria', 106: 'patata blanca'}\n",
    "    \n",
    "    print('Starting to scrape Alcampo...')\n",
    "    \n",
    "    for product_id, url in alcampo_url_dict.items():\n",
    "        print(url)\n",
    "        time.sleep(5)\n",
    "        html = requests.get(url, headers=HEADER).text\n",
    "        soup_alcampo = BeautifulSoup(html, 'lxml')\n",
    "        \n",
    "        try:\n",
    "            price_alcampo = soup_alcampo.find('span', {'class': 'precioUnidad pesoVariable'}).text\n",
    "        \n",
    "        except:\n",
    "            price_alcampo = soup_alcampo.find('span', {'class': 'pesoVariable precioUnidad'}).text\n",
    "        \n",
    "        if price_alcampo is None:\n",
    "        \n",
    "            precio = 'No disponible'\n",
    "            unidad = 'No disponible'\n",
    "        \n",
    "        else:\n",
    "            precio = re.findall('[0-9,]+', price_alcampo)[0].replace(',',('.'))\n",
    "            unidad = re.findall('(\\€.*)\\)', price_alcampo)[0]\n",
    "\n",
    "        print(product_id, '--', precio, '--', unidad)\n",
    "\n",
    "        producto = [v for k, v in products_dict.items() if k == product_id]\n",
    "        \n",
    "        # Adding new line to the dataframe\n",
    "        update_alcampo_dataframe.loc[len(update_alcampo_dataframe)] = [product_id, producto[0], tienda, precio, unidad, fecha]\n",
    "    \n",
    "    return update_alcampo_dataframe"
   ]
  },
  {
   "cell_type": "code",
   "execution_count": 34,
   "metadata": {},
   "outputs": [
    {
     "name": "stdout",
     "output_type": "stream",
     "text": [
      "Starting to scrape Alcampo...\n",
      "https://www.alcampo.es/compra-online/frescos/verduras-y-hortalizas/verduras-ecologicas/hortaliza-ecologica-tomate-de-ensalada-ecologico-600g/p/55576\n",
      "101 -- 3.81 -- €/Kg\n",
      "https://www.alcampo.es/compra-online/alimentacion/ecologicos/productos-frescos-ecologicos/frutas-y-verduras-ecologicas/frutas-ecologicas/fruta-ecologica-platanos-ecologicos-bandeja-de-800-g/p/57540\n",
      "102 -- 1.86 -- €/Kg\n",
      "https://www.alcampo.es/compra-online/frescos/frutas/frutas-ecologicas/fruta-manzanas-royal-ecologica-800-g/p/57561\n",
      "103 -- 4.36 -- €/Kg\n",
      "https://www.alcampo.es/compra-online/frescos/verduras-y-hortalizas/verduras-ecologicas/hortaliza-ecologica-calabacin-ecologico-600-g/p/55542\n",
      "104 -- 2.81 -- €/Kg\n",
      "https://www.alcampo.es/compra-online/frescos/verduras-y-hortalizas/verduras-ecologicas/alcampo-produccion-controlada-ecologico-zanahoria-ecologico-700-g/p/58394\n",
      "105 -- 2.27 -- €/Kg\n",
      "https://www.alcampo.es/compra-online/frescos/verduras-y-hortalizas/verduras-ecologicas/alcampo-produccion-controlada-ecologico-patata-ecologica-malla-de-2-kg/p/58396\n",
      "106 -- 1.32 -- €/Kg\n"
     ]
    },
    {
     "data": {
      "text/html": [
       "<div>\n",
       "<style scoped>\n",
       "    .dataframe tbody tr th:only-of-type {\n",
       "        vertical-align: middle;\n",
       "    }\n",
       "\n",
       "    .dataframe tbody tr th {\n",
       "        vertical-align: top;\n",
       "    }\n",
       "\n",
       "    .dataframe thead th {\n",
       "        text-align: right;\n",
       "    }\n",
       "</style>\n",
       "<table border=\"1\" class=\"dataframe\">\n",
       "  <thead>\n",
       "    <tr style=\"text-align: right;\">\n",
       "      <th></th>\n",
       "      <th>id</th>\n",
       "      <th>producto</th>\n",
       "      <th>tienda</th>\n",
       "      <th>precio</th>\n",
       "      <th>unidad</th>\n",
       "      <th>fecha</th>\n",
       "    </tr>\n",
       "  </thead>\n",
       "  <tbody>\n",
       "    <tr>\n",
       "      <th>0</th>\n",
       "      <td>101</td>\n",
       "      <td>tomate ensalada</td>\n",
       "      <td>Alcampo</td>\n",
       "      <td>3.81</td>\n",
       "      <td>€/Kg</td>\n",
       "      <td>Tuesday 19:13 08-06-2021</td>\n",
       "    </tr>\n",
       "    <tr>\n",
       "      <th>1</th>\n",
       "      <td>102</td>\n",
       "      <td>plátano canario</td>\n",
       "      <td>Alcampo</td>\n",
       "      <td>1.86</td>\n",
       "      <td>€/Kg</td>\n",
       "      <td>Tuesday 19:13 08-06-2021</td>\n",
       "    </tr>\n",
       "    <tr>\n",
       "      <th>2</th>\n",
       "      <td>103</td>\n",
       "      <td>manzana royal</td>\n",
       "      <td>Alcampo</td>\n",
       "      <td>4.36</td>\n",
       "      <td>€/Kg</td>\n",
       "      <td>Tuesday 19:13 08-06-2021</td>\n",
       "    </tr>\n",
       "    <tr>\n",
       "      <th>3</th>\n",
       "      <td>104</td>\n",
       "      <td>calabacín</td>\n",
       "      <td>Alcampo</td>\n",
       "      <td>2.81</td>\n",
       "      <td>€/Kg</td>\n",
       "      <td>Tuesday 19:13 08-06-2021</td>\n",
       "    </tr>\n",
       "    <tr>\n",
       "      <th>4</th>\n",
       "      <td>105</td>\n",
       "      <td>zanahoria</td>\n",
       "      <td>Alcampo</td>\n",
       "      <td>2.27</td>\n",
       "      <td>€/Kg</td>\n",
       "      <td>Tuesday 19:13 08-06-2021</td>\n",
       "    </tr>\n",
       "    <tr>\n",
       "      <th>5</th>\n",
       "      <td>106</td>\n",
       "      <td>patata blanca</td>\n",
       "      <td>Alcampo</td>\n",
       "      <td>1.32</td>\n",
       "      <td>€/Kg</td>\n",
       "      <td>Tuesday 19:13 08-06-2021</td>\n",
       "    </tr>\n",
       "  </tbody>\n",
       "</table>\n",
       "</div>"
      ],
      "text/plain": [
       "    id         producto   tienda precio unidad                     fecha\n",
       "0  101  tomate ensalada  Alcampo   3.81   €/Kg  Tuesday 19:13 08-06-2021\n",
       "1  102  plátano canario  Alcampo   1.86   €/Kg  Tuesday 19:13 08-06-2021\n",
       "2  103    manzana royal  Alcampo   4.36   €/Kg  Tuesday 19:13 08-06-2021\n",
       "3  104        calabacín  Alcampo   2.81   €/Kg  Tuesday 19:13 08-06-2021\n",
       "4  105        zanahoria  Alcampo   2.27   €/Kg  Tuesday 19:13 08-06-2021\n",
       "5  106    patata blanca  Alcampo   1.32   €/Kg  Tuesday 19:13 08-06-2021"
      ]
     },
     "execution_count": 34,
     "metadata": {},
     "output_type": "execute_result"
    }
   ],
   "source": [
    "updating_alcampo()"
   ]
  },
  {
   "cell_type": "code",
   "execution_count": null,
   "metadata": {},
   "outputs": [],
   "source": []
  },
  {
   "cell_type": "code",
   "execution_count": null,
   "metadata": {},
   "outputs": [],
   "source": []
  }
 ],
 "metadata": {
  "kernelspec": {
   "display_name": "Python [conda env:app_env]",
   "language": "python",
   "name": "conda-env-app_env-py"
  },
  "language_info": {
   "codemirror_mode": {
    "name": "ipython",
    "version": 3
   },
   "file_extension": ".py",
   "mimetype": "text/x-python",
   "name": "python",
   "nbconvert_exporter": "python",
   "pygments_lexer": "ipython3",
   "version": "3.8.8"
  }
 },
 "nbformat": 4,
 "nbformat_minor": 4
}
