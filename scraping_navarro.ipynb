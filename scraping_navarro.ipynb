{
 "cells": [
  {
   "cell_type": "markdown",
   "metadata": {},
   "source": [
    "# Scraping Herbolario Navarro"
   ]
  },
  {
   "cell_type": "code",
   "execution_count": 1,
   "metadata": {},
   "outputs": [],
   "source": [
    "import pandas as pd\n",
    "import requests\n",
    "from bs4 import BeautifulSoup\n",
    "import re\n",
    "import time"
   ]
  },
  {
   "cell_type": "code",
   "execution_count": 2,
   "metadata": {},
   "outputs": [],
   "source": [
    "HEADER = {\"User-Agent\": \"Mozilla/5.0 (X11; CrOS x86_64 12871.102.0) AppleWebKit/537.36 (KHTML, like Gecko) \"\n",
    "                        \"Chrome/90.0.4430.85 Safari/537.36\"}"
   ]
  },
  {
   "cell_type": "code",
   "execution_count": 3,
   "metadata": {},
   "outputs": [],
   "source": [
    "navarro_url_dict = {202: f'https://www.herbolarionavarro.es/copos-de-5-cereales.html',\n",
    "                402: f'https://www.herbolarionavarro.es/harina-de-avena-integral-ecologica.html',\n",
    "                501: f'https://www.herbolarionavarro.es/chocolate-negro-75-nicaragua-100g.html',          \n",
    "                701: f'https://www.herbolarionavarro.es/leche-de-vaca-semi-eco-1l.html',\n",
    "                702: f'https://www.herbolarionavarro.es/bebida-de-avena-1.html',\n",
    "                704: f'https://www.herbolarionavarro.es/yogur-cremoso-eco-desnatado-con-fresa.html',\n",
    "                706: f'https://www.herbolarionavarro.es/leche-de-vaca-entera.html',\n",
    "                707: f'https://www.herbolarionavarro.es/kefir-cabra-420gr.html',\n",
    "                802: f'https://www.herbolarionavarro.es/mejillones-en-escabeche.html',\n",
    "                1002: f'https://www.herbolarionavarro.es/arroz-redondo-integral-de-calasparrra-bio.html'}"
   ]
  },
  {
   "cell_type": "code",
   "execution_count": 16,
   "metadata": {},
   "outputs": [
    {
     "data": {
      "text/plain": [
       "('1.60', '€/L')"
      ]
     },
     "execution_count": 16,
     "metadata": {},
     "output_type": "execute_result"
    }
   ],
   "source": [
    "url_navarro = f'https://www.herbolarionavarro.es/bebida-de-avena-1.html'\n",
    "html = requests.get(url_navarro, headers=HEADER).text\n",
    "soup_navarro = BeautifulSoup(html, 'lxml')\n",
    "price_navarro = soup_navarro.find('div', {'class': 'capacity-calculator'}).text\n",
    "precio = re.findall('[0-9,]+', price_navarro)[0].replace(',',('.'))\n",
    "unidad = re.findall('(\\€.*)', price_navarro)[0].strip()\n",
    "precio, unidad"
   ]
  },
  {
   "cell_type": "code",
   "execution_count": 19,
   "metadata": {},
   "outputs": [],
   "source": [
    "def updating_navarro():\n",
    "    \n",
    "    #This function creates a tiny dataframe with the product's prices updated and dated every time it runs. Raws will be added to the main database.\n",
    "    \n",
    "    update_navarro_dataframe = pd.DataFrame(columns=['id', 'producto', 'tienda', 'precio', 'unidad', 'fecha'])\n",
    "    tienda = 'Navarro'\n",
    "    fecha = time.strftime('%A %H:%M %d-%m-%Y')\n",
    "    \n",
    "    # Temporary list of product to match id. TO DO: products table\n",
    "    products_dict = {101: 'tomate ensalada', 102: 'plátano canario', 103: 'manzana royal', 104: 'calabacín', 105: 'zanahoria', 106: 'patata blanca'}\n",
    "    \n",
    "    print('Starting to scrape Herbolario Navarro...')\n",
    "    \n",
    "    for product_id, url in navarro_url_dict.items():\n",
    "        print(url)\n",
    "        time.sleep(5)\n",
    "        html = requests.get(url, headers=HEADER).text\n",
    "        soup_navarro = BeautifulSoup(html, 'lxml')\n",
    "        \n",
    "        price_navarro = soup_navarro.find('div', {'class': 'capacity-calculator'}).text\n",
    "        \n",
    "        if price_navarro is None:\n",
    "        \n",
    "            precio = 'No disponible'\n",
    "            unidad = 'No disponible'\n",
    "        \n",
    "        else:\n",
    "            precio = re.findall('[0-9,]+', price_navarro)[0].replace(',',('.'))\n",
    "            unidad = re.findall('(\\€.*)', price_navarro)[0].strip()\n",
    "\n",
    "        print(product_id, '--', precio, '--', unidad)\n",
    "\n",
    "        producto = [v for k, v in products_dict.items() if k == product_id]\n",
    "        \n",
    "        # Adding new line to the dataframe\n",
    "        update_navarro_dataframe.loc[len(update_navarro_dataframe)] = [product_id, producto[0], tienda, precio, unidad, fecha]\n",
    "    \n",
    "    return update_navarro_dataframe"
   ]
  },
  {
   "cell_type": "code",
   "execution_count": 20,
   "metadata": {},
   "outputs": [
    {
     "name": "stdout",
     "output_type": "stream",
     "text": [
      "Starting to scrape Herbolario Navarro...\n",
      "https://www.herbolarionavarro.es/copos-de-5-cereales.html\n",
      "202 -- 4.18 -- €/kg\n"
     ]
    },
    {
     "ename": "IndexError",
     "evalue": "list index out of range",
     "output_type": "error",
     "traceback": [
      "\u001b[0;31m---------------------------------------------------------------------------\u001b[0m",
      "\u001b[0;31mIndexError\u001b[0m                                Traceback (most recent call last)",
      "\u001b[0;32m<ipython-input-20-e3da4c376899>\u001b[0m in \u001b[0;36m<module>\u001b[0;34m\u001b[0m\n\u001b[0;32m----> 1\u001b[0;31m \u001b[0mupdating_navarro\u001b[0m\u001b[0;34m(\u001b[0m\u001b[0;34m)\u001b[0m\u001b[0;34m\u001b[0m\u001b[0;34m\u001b[0m\u001b[0m\n\u001b[0m",
      "\u001b[0;32m<ipython-input-19-a0ba78aa2a9d>\u001b[0m in \u001b[0;36mupdating_navarro\u001b[0;34m()\u001b[0m\n\u001b[1;32m     32\u001b[0m \u001b[0;34m\u001b[0m\u001b[0m\n\u001b[1;32m     33\u001b[0m         \u001b[0;31m# Adding new line to the dataframe\u001b[0m\u001b[0;34m\u001b[0m\u001b[0;34m\u001b[0m\u001b[0;34m\u001b[0m\u001b[0m\n\u001b[0;32m---> 34\u001b[0;31m         \u001b[0mupdate_navarro_dataframe\u001b[0m\u001b[0;34m.\u001b[0m\u001b[0mloc\u001b[0m\u001b[0;34m[\u001b[0m\u001b[0mlen\u001b[0m\u001b[0;34m(\u001b[0m\u001b[0mupdate_navarro_dataframe\u001b[0m\u001b[0;34m)\u001b[0m\u001b[0;34m]\u001b[0m \u001b[0;34m=\u001b[0m \u001b[0;34m[\u001b[0m\u001b[0mproduct_id\u001b[0m\u001b[0;34m,\u001b[0m \u001b[0mproducto\u001b[0m\u001b[0;34m[\u001b[0m\u001b[0;36m0\u001b[0m\u001b[0;34m]\u001b[0m\u001b[0;34m,\u001b[0m \u001b[0mtienda\u001b[0m\u001b[0;34m,\u001b[0m \u001b[0mprecio\u001b[0m\u001b[0;34m,\u001b[0m \u001b[0munidad\u001b[0m\u001b[0;34m,\u001b[0m \u001b[0mfecha\u001b[0m\u001b[0;34m]\u001b[0m\u001b[0;34m\u001b[0m\u001b[0;34m\u001b[0m\u001b[0m\n\u001b[0m\u001b[1;32m     35\u001b[0m \u001b[0;34m\u001b[0m\u001b[0m\n\u001b[1;32m     36\u001b[0m     \u001b[0;32mreturn\u001b[0m \u001b[0mupdate_navarro_dataframe\u001b[0m\u001b[0;34m\u001b[0m\u001b[0;34m\u001b[0m\u001b[0m\n",
      "\u001b[0;31mIndexError\u001b[0m: list index out of range"
     ]
    }
   ],
   "source": [
    "updating_navarro()"
   ]
  },
  {
   "cell_type": "code",
   "execution_count": null,
   "metadata": {},
   "outputs": [],
   "source": []
  },
  {
   "cell_type": "code",
   "execution_count": null,
   "metadata": {},
   "outputs": [],
   "source": []
  }
 ],
 "metadata": {
  "kernelspec": {
   "display_name": "Python [conda env:app_env]",
   "language": "python",
   "name": "conda-env-app_env-py"
  },
  "language_info": {
   "codemirror_mode": {
    "name": "ipython",
    "version": 3
   },
   "file_extension": ".py",
   "mimetype": "text/x-python",
   "name": "python",
   "nbconvert_exporter": "python",
   "pygments_lexer": "ipython3",
   "version": "3.8.8"
  }
 },
 "nbformat": 4,
 "nbformat_minor": 4
}
