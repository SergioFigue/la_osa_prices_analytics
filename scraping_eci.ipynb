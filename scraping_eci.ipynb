{
 "cells": [
  {
   "cell_type": "markdown",
   "metadata": {},
   "source": [
    "# Scraping ECI"
   ]
  },
  {
   "cell_type": "code",
   "execution_count": 1,
   "metadata": {},
   "outputs": [],
   "source": [
    "import pandas as pd\n",
    "import requests\n",
    "from bs4 import BeautifulSoup\n",
    "import re\n",
    "import time"
   ]
  },
  {
   "cell_type": "code",
   "execution_count": 2,
   "metadata": {},
   "outputs": [],
   "source": [
    "HEADER = {\"User-Agent\": \"Mozilla/5.0 (X11; CrOS x86_64 12871.102.0) AppleWebKit/537.36 (KHTML, like Gecko) \"\n",
    "                        \"Chrome/90.0.4430.85 Safari/537.36\"}"
   ]
  },
  {
   "cell_type": "code",
   "execution_count": 3,
   "metadata": {},
   "outputs": [],
   "source": [
    "eci_url_dict = {101: f'https://www.elcorteingles.es/supermercado/0110118164300305-solo-bio-tomate-ensalada-ecologico-500-g/',\n",
    "                102: f'https://www.elcorteingles.es/supermercado/0110118115100291-platano-igp-de-canarias-ecologico-bandeja-800-g-peso-aproximado/',\n",
    "                103: f'https://www.elcorteingles.es/supermercado/0110118115900310-la-huerta-manzana-royal-gala-ecologica-bandeja-800-g-peso-aproximado/',\n",
    "                104: f'https://www.elcorteingles.es/supermercado/0110118163600085-daleira-calabacin-ecologico-gallego-malla-700-g/', \n",
    "                105: f'https://www.elcorteingles.es/supermercado/0110118131400014-la-huerta-zanahoria-ecologica-bandeja-800-g-peso-aproximado/',\n",
    "                106: f'https://www.elcorteingles.es/supermercado/0110118173300072-ecopat-patata-ecologica-bolsa-2-kg/'}\n",
    "                #202: f'https://www.elcorteingles.es/supermercado/0110120703500148-el-granero-integral-bio-copos-de-avena-suave-integral-ecologicos-bolsa-1-kg/',\n",
    "                #301: f'https://www.elcorteingles.es/supermercado/0110120754701074-biocop-galletas-de-espelta-integral-con-chocolate-y-avellanas-ecologicas-envase-250-g/',\n",
    "                #302: f'https://www.elcorteingles.es/supermercado/0110120670802543-la-granja-mini-magdalenas-con-platano-y-choco-chips-bolsa-200-g/',\n",
    "                #303: f'https://www.elcorteingles.es/supermercado/0110120660904085-blanco-monjas-rosquillas-con-sabor-a-convento-bandeja-250-g/',\n",
    "                #304: f'https://www.elcorteingles.es/supermercado/0110120658601362-la-granja-bizcocho-marmol-ecologico-con-chocolate-bolsa-300-g/', \n",
    "                #401: f'https://www.elcorteingles.es/supermercado/0110118559700044-leon-the-baker-pan-hogaza-de-masa-madre-sin-gluten-envase-470-g/',\n",
    "                #501: f'https://www.elcorteingles.es/supermercado/0110120756400444-ethiquable-chocolate-negro-75-cacao-de-nicaragua-de-gran-reserva-de-waslala-ecologico-tableta-100-g/',          \n",
    "                #702: f'https://www.elcorteingles.es/supermercado/0110120728400134-soria-natural-bebida-de-avena-con-calcio-ecologica-sin-lactosa-1005-vegetal-envase-1-l/',\n",
    "                #704: f'https://www.elcorteingles.es/supermercado/0110118822300168-casa-grande-de-xanceda-yogur-con-fresas-desnatado-03-mg-sin-gluten-ecologico-pack-2-unidades-125-g/',\n",
    "                #705: f'https://www.elcorteingles.es/supermercado/0110120914100019-puleva-leche-semidesnatada-ecologica-brik-1-l/',\n",
    "                #707: f'https://www.elcorteingles.es/supermercado/0110118822400026-el-cantero-de-letur-kefir-de-cabra-natural-ecologico-tarro-420-g/',\n",
    "                #802: f'https://www.elcorteingles.es/supermercado/0110120731100135-pan-do-mar-mejillones-ecologicos-en-escabeche-ecologico-dop-mejillon-de-galicia-lata-115-g/',\n",
    "                #1001: f'https://www.elcorteingles.es/supermercado/0110118005700465-virgen-de-la-esperanza-arroz-redondo-dop-de-calasparra-envase-1-kg/',        \n",
    "                #1002: f'https://www.elcorteingles.es/supermercado/0110120755000179-virgen-de-la-esperanza-arroz-redondo-integral-de-calasparra-ecologico-sin-gluten-caja-1-kg/',\n",
    "                #1101: f'https://www.elcorteingles.es/supermercado/0110120760500122-intermon-oxfam-tierra-madre-cafe-molido-natural-ecologico-seleccionado-en-origen-paquete-250-g/',\n",
    "                #1201: f'https://www.elcorteingles.es/supermercado/0110118600300356-mahou-clasica-cerveza-rubia-original-lata-33-cl/'}"
   ]
  },
  {
   "cell_type": "code",
   "execution_count": 4,
   "metadata": {},
   "outputs": [
    {
     "ename": "AttributeError",
     "evalue": "'NoneType' object has no attribute 'text'",
     "output_type": "error",
     "traceback": [
      "\u001b[0;31m---------------------------------------------------------------------------\u001b[0m",
      "\u001b[0;31mAttributeError\u001b[0m                            Traceback (most recent call last)",
      "\u001b[0;32m<ipython-input-4-ba45ee0e5d44>\u001b[0m in \u001b[0;36m<module>\u001b[0;34m\u001b[0m\n\u001b[1;32m      2\u001b[0m \u001b[0mhtml\u001b[0m \u001b[0;34m=\u001b[0m \u001b[0mrequests\u001b[0m\u001b[0;34m.\u001b[0m\u001b[0mget\u001b[0m\u001b[0;34m(\u001b[0m\u001b[0murl_eci\u001b[0m\u001b[0;34m,\u001b[0m \u001b[0mheaders\u001b[0m\u001b[0;34m=\u001b[0m\u001b[0mHEADER\u001b[0m\u001b[0;34m)\u001b[0m\u001b[0;34m.\u001b[0m\u001b[0mtext\u001b[0m\u001b[0;34m\u001b[0m\u001b[0;34m\u001b[0m\u001b[0m\n\u001b[1;32m      3\u001b[0m \u001b[0msoup_eci\u001b[0m \u001b[0;34m=\u001b[0m \u001b[0mBeautifulSoup\u001b[0m\u001b[0;34m(\u001b[0m\u001b[0mhtml\u001b[0m\u001b[0;34m,\u001b[0m \u001b[0;34m'lxml'\u001b[0m\u001b[0;34m)\u001b[0m\u001b[0;34m\u001b[0m\u001b[0;34m\u001b[0m\u001b[0m\n\u001b[0;32m----> 4\u001b[0;31m \u001b[0mprice_eci\u001b[0m \u001b[0;34m=\u001b[0m \u001b[0msoup_eci\u001b[0m\u001b[0;34m.\u001b[0m\u001b[0mfind\u001b[0m\u001b[0;34m(\u001b[0m\u001b[0;34m'div'\u001b[0m\u001b[0;34m,\u001b[0m \u001b[0;34m{\u001b[0m\u001b[0;34m'class'\u001b[0m\u001b[0;34m:\u001b[0m \u001b[0;34m'prices-price _pum'\u001b[0m\u001b[0;34m}\u001b[0m\u001b[0;34m)\u001b[0m\u001b[0;34m.\u001b[0m\u001b[0mtext\u001b[0m\u001b[0;34m\u001b[0m\u001b[0;34m\u001b[0m\u001b[0m\n\u001b[0m\u001b[1;32m      5\u001b[0m \u001b[0;31m#precio = re.findall('[0-9,]+', price_eci)[0].replace(',',('.'))\u001b[0m\u001b[0;34m\u001b[0m\u001b[0;34m\u001b[0m\u001b[0;34m\u001b[0m\u001b[0m\n\u001b[1;32m      6\u001b[0m \u001b[0;31m#unidad = re.findall('(\\€.*)\\)', price_eci)[0]\u001b[0m\u001b[0;34m\u001b[0m\u001b[0;34m\u001b[0m\u001b[0;34m\u001b[0m\u001b[0m\n",
      "\u001b[0;31mAttributeError\u001b[0m: 'NoneType' object has no attribute 'text'"
     ]
    }
   ],
   "source": [
    "url_eci = f'https://www.elcorteingles.es/supermercado/0110118115100291-platano-igp-de-canarias-ecologico-bandeja-800-g-peso-aproximado/'\n",
    "html = requests.get(url_eci, headers=HEADER).text\n",
    "soup_eci = BeautifulSoup(html, 'lxml')\n",
    "price_eci = soup_eci.find('div', {'class': 'prices-price _pum'}).text\n",
    "#precio = re.findall('[0-9,]+', price_eci)[0].replace(',',('.'))\n",
    "#unidad = re.findall('(\\€.*)\\)', price_eci)[0]\n",
    "#precio, unidad"
   ]
  },
  {
   "cell_type": "code",
   "execution_count": 5,
   "metadata": {},
   "outputs": [
    {
     "data": {
      "text/plain": [
       "<!DOCTYPE html>\n",
       "<html>\n",
       "<head>\n",
       "<meta charset=\"utf-8\"/>\n",
       "<meta content=\"width=device-width, initial-scale=1, shrink-to-fit=no\" name=\"viewport\"/>\n",
       "<title>Challenge Validation</title>\n",
       "<link href=\"/_sec/cp_challenge/sec-3-5.css\" rel=\"stylesheet\" type=\"text/css\"/>\n",
       "<script type=\"text/javascript\">function cp_clge_done(){location.reload(true);}</script>\n",
       "<script async=\"\" defer=\"\" src=\"/_sec/cp_challenge/sec-cpt-int-3-5.js\"></script>\n",
       "<script type=\"text/javascript\">sessionStorage.setItem('data-duration', 5);</script>\n",
       "</head>\n",
       "<body>\n",
       "<div class=\"sec-container\">\n",
       "<div id=\"sec-text-container\"><iframe class=\"custmsg\" id=\"sec-text-if\" src=\"https://beta.elcorteingles.es/sgfm/statics/eci_non_food/contents/cc/cca.html\"></iframe></div>\n",
       "<div id=\"sec-if-container\">\n",
       "<iframe class=\"crypto\" data-duration=\"5\" data-key=\"\" id=\"sec-cpt-if\" src=\"/_sec/cp_challenge/ak-challenge-3-5.htm\"></iframe>\n",
       "</div>\n",
       "</div>\n",
       "</body>\n",
       "</html>"
      ]
     },
     "execution_count": 5,
     "metadata": {},
     "output_type": "execute_result"
    }
   ],
   "source": [
    "soup_eci"
   ]
  },
  {
   "cell_type": "code",
   "execution_count": null,
   "metadata": {},
   "outputs": [],
   "source": []
  }
 ],
 "metadata": {
  "kernelspec": {
   "display_name": "Python [conda env:app_env]",
   "language": "python",
   "name": "conda-env-app_env-py"
  },
  "language_info": {
   "codemirror_mode": {
    "name": "ipython",
    "version": 3
   },
   "file_extension": ".py",
   "mimetype": "text/x-python",
   "name": "python",
   "nbconvert_exporter": "python",
   "pygments_lexer": "ipython3",
   "version": "3.8.8"
  }
 },
 "nbformat": 4,
 "nbformat_minor": 4
}
