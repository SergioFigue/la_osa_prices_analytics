{
 "cells": [
  {
   "cell_type": "markdown",
   "metadata": {},
   "source": [
    "# Scraping Eroski"
   ]
  },
  {
   "cell_type": "code",
   "execution_count": 1,
   "metadata": {},
   "outputs": [],
   "source": [
    "import pandas as pd\n",
    "import requests\n",
    "from bs4 import BeautifulSoup\n",
    "import re\n",
    "import time"
   ]
  },
  {
   "cell_type": "code",
   "execution_count": 3,
   "metadata": {},
   "outputs": [],
   "source": [
    "HEADER = {\"User-Agent\": \"Mozilla/5.0 (X11; CrOS x86_64 12871.102.0) AppleWebKit/537.36 (KHTML, like Gecko) \"\n",
    "                        \"Chrome/90.0.4430.85 Safari/537.36\"}"
   ]
  },
  {
   "cell_type": "code",
   "execution_count": 4,
   "metadata": {},
   "outputs": [],
   "source": [
    "# List of products included in the analysis by url\n",
    "\n",
    "eroski_url_dict = {101: f'https://supermercado.eroski.es/es/productdetail/23628514-tomate-ecologico-eroski-natur-bio-al-peso-compra-minima-500-g/',\n",
    "                102: f'https://supermercado.eroski.es/es/productdetail/23628209-platano-de-canarias-eco-eroski-natur-bio-al-peso-compra-minima-1-kg/',\n",
    "                103: f'https://supermercado.eroski.es/es/productdetail/23628084-manzana-roja-ecologica-eroski-natur-bio-al-peso-compra-minima-1-kg/',\n",
    "                104: f'https://supermercado.eroski.es/es/productdetail/23628340-calabacin-ecologico-eroski-natur-bio-al-peso-compra-minima-500-g/', \n",
    "                105: f'https://supermercado.eroski.es/es/productdetail/23628548-zanahoria-ecologica-eroski-natur-bio-bandeja-600-g/',\n",
    "                106: f'https://supermercado.eroski.es/es/productdetail/23628431-patata-ecologica-eroski-natur-bio-al-peso-compra-minima-1-kg/'}\n",
    "                #501: f'https://supermercado.eroski.es/es/productdetail/24031197-chocolate-negro-74-costa-de-marfil-ethiquable-tableta-100-g/',\n",
    "                #703: f'https://supermercado.eroski.es/es/productdetail/11735339-bebida-de-avena-yosoy-brik-1-litro/',\n",
    "                #705: f'https://supermercado.eroski.es/es/productdetail/14854624-leche-semidesnatada-ecologica-puleva-brik-1-litro/',\n",
    "                #707: f'https://supermercado.eroski.es/es/productdetail/12450268-kefir-ecologico-de-cabra-cantero-de-letur-frasco-420-g/',\n",
    "                #901: f'https://supermercado.eroski.es/es/productdetail/16425886-tortellini-integral-queso-espinacas-natursoy-bandeja-250-g/',        \n",
    "                #1201: f'https://supermercado.eroski.es/es/productdetail/311712-cerveza-mahou-clasica-lata-33-cl/'}"
   ]
  },
  {
   "cell_type": "code",
   "execution_count": 5,
   "metadata": {},
   "outputs": [],
   "source": [
    "url_eroski = f'https://supermercado.eroski.es/es/productdetail/23628514-tomate-ecologico-eroski-natur-bio-al-peso-compra-minima-500-g/'\n",
    "html = requests.get(url_eroski, headers=HEADER).text\n",
    "soup_eroski = BeautifulSoup(html, 'lxml')\n"
   ]
  },
  {
   "cell_type": "code",
   "execution_count": 10,
   "metadata": {},
   "outputs": [],
   "source": [
    "price_eroski_tomate = soup_eroski.find('span', {'class': 'price-product'}).text.split()[0]"
   ]
  },
  {
   "cell_type": "code",
   "execution_count": 19,
   "metadata": {},
   "outputs": [],
   "source": [
    "unidad = soup_eroski.find('span', {'class': 'quantity-product'}).text.split()[0:2]\n",
    "unidad = (' ').join(unidad)"
   ]
  },
  {
   "cell_type": "code",
   "execution_count": 36,
   "metadata": {},
   "outputs": [],
   "source": [
    "def updating_eroski():\n",
    "    \n",
    "    #This function creates a tiny dataframe with the product's prices updated and dated every time it runs. Raws will be added to the main database.\n",
    "    \n",
    "    update_eroski_dataframe = pd.DataFrame(columns=['id', 'producto', 'tienda', 'precio', 'unidad', 'fecha'])\n",
    "    tienda = 'Eroski'\n",
    "    fecha = time.strftime('%A %H:%M %d-%m-%Y')\n",
    "    \n",
    "    # Temporary list of product to match id. TO DO: products table\n",
    "    products_dict = {101: 'tomate ensalada', 102: 'plátano canario', 103: 'manzana royal', 104: 'calabacín', 105: 'zanahoria', 106: 'patata blanca'}\n",
    "    \n",
    "    print('Starting to scrape Eroski...')\n",
    "    \n",
    "    for product_id, url in eroski_url_dict.items():\n",
    "        print(url)\n",
    "        time.sleep(5)\n",
    "        html = requests.get(url, headers=HEADER).text\n",
    "        soup_eroski = BeautifulSoup(html, 'lxml')\n",
    "        price_eroski = soup_eroski.find('span', {'class': 'price-product'})\n",
    "        \n",
    "        if price_eroski is None:\n",
    "        \n",
    "            try:\n",
    "                precio = soup_eroski.find('span', {'class': 'offer-now'}).text.strip().replace(',','.')\n",
    "                unidad = '1 KILO'\n",
    "                \n",
    "            except:\n",
    "\n",
    "                precio = 'No disponible'\n",
    "                unidad = 'No disponible'\n",
    "        \n",
    "        else:\n",
    "            precio = price_eroski.text.split()[0]\n",
    "            unidad = soup_eroski.find('span', {'class': 'quantity-product'}).text.split()[0:2]\n",
    "            unidad = (' ').join(unidad)\n",
    "\n",
    "        print(product_id, '--', precio, '--', unidad)\n",
    "\n",
    "        producto = [v for k, v in products_dict.items() if k == product_id]\n",
    "        \n",
    "        # Adding new line to the dataframe\n",
    "        update_eroski_dataframe.loc[len(update_eroski_dataframe)] = [product_id, producto[0], tienda, precio, unidad, fecha]\n",
    "    \n",
    "    return update_eroski_dataframe"
   ]
  },
  {
   "cell_type": "code",
   "execution_count": 37,
   "metadata": {},
   "outputs": [
    {
     "name": "stdout",
     "output_type": "stream",
     "text": [
      "Starting to scrape Eroski...\n",
      "https://supermercado.eroski.es/es/productdetail/23628514-tomate-ecologico-eroski-natur-bio-al-peso-compra-minima-500-g/\n",
      "101 -- 3,56 -- 1 KILO\n",
      "https://supermercado.eroski.es/es/productdetail/23628209-platano-de-canarias-eco-eroski-natur-bio-al-peso-compra-minima-1-kg/\n",
      "102 -- 2.99 -- 1 KILO\n",
      "https://supermercado.eroski.es/es/productdetail/23628084-manzana-roja-ecologica-eroski-natur-bio-al-peso-compra-minima-1-kg/\n",
      "103 -- No disponible -- No disponible\n",
      "https://supermercado.eroski.es/es/productdetail/23628340-calabacin-ecologico-eroski-natur-bio-al-peso-compra-minima-500-g/\n",
      "104 -- 1,90 -- 1 KILO\n",
      "https://supermercado.eroski.es/es/productdetail/23628548-zanahoria-ecologica-eroski-natur-bio-bandeja-600-g/\n",
      "105 -- 2,48 -- 1 KILO\n",
      "https://supermercado.eroski.es/es/productdetail/23628431-patata-ecologica-eroski-natur-bio-al-peso-compra-minima-1-kg/\n",
      "106 -- 2.39 -- 1 KILO\n"
     ]
    },
    {
     "data": {
      "text/html": [
       "<div>\n",
       "<style scoped>\n",
       "    .dataframe tbody tr th:only-of-type {\n",
       "        vertical-align: middle;\n",
       "    }\n",
       "\n",
       "    .dataframe tbody tr th {\n",
       "        vertical-align: top;\n",
       "    }\n",
       "\n",
       "    .dataframe thead th {\n",
       "        text-align: right;\n",
       "    }\n",
       "</style>\n",
       "<table border=\"1\" class=\"dataframe\">\n",
       "  <thead>\n",
       "    <tr style=\"text-align: right;\">\n",
       "      <th></th>\n",
       "      <th>id</th>\n",
       "      <th>producto</th>\n",
       "      <th>tienda</th>\n",
       "      <th>precio</th>\n",
       "      <th>unidad</th>\n",
       "      <th>fecha</th>\n",
       "    </tr>\n",
       "  </thead>\n",
       "  <tbody>\n",
       "    <tr>\n",
       "      <th>0</th>\n",
       "      <td>101</td>\n",
       "      <td>tomate ensalada</td>\n",
       "      <td>Eroski</td>\n",
       "      <td>3,56</td>\n",
       "      <td>1 KILO</td>\n",
       "      <td>Tuesday 11:49 08-06-2021</td>\n",
       "    </tr>\n",
       "    <tr>\n",
       "      <th>1</th>\n",
       "      <td>102</td>\n",
       "      <td>plátano canario</td>\n",
       "      <td>Eroski</td>\n",
       "      <td>2.99</td>\n",
       "      <td>1 KILO</td>\n",
       "      <td>Tuesday 11:49 08-06-2021</td>\n",
       "    </tr>\n",
       "    <tr>\n",
       "      <th>2</th>\n",
       "      <td>103</td>\n",
       "      <td>manzana royal</td>\n",
       "      <td>Eroski</td>\n",
       "      <td>No disponible</td>\n",
       "      <td>No disponible</td>\n",
       "      <td>Tuesday 11:49 08-06-2021</td>\n",
       "    </tr>\n",
       "    <tr>\n",
       "      <th>3</th>\n",
       "      <td>104</td>\n",
       "      <td>calabacín</td>\n",
       "      <td>Eroski</td>\n",
       "      <td>1,90</td>\n",
       "      <td>1 KILO</td>\n",
       "      <td>Tuesday 11:49 08-06-2021</td>\n",
       "    </tr>\n",
       "    <tr>\n",
       "      <th>4</th>\n",
       "      <td>105</td>\n",
       "      <td>zanahoria</td>\n",
       "      <td>Eroski</td>\n",
       "      <td>2,48</td>\n",
       "      <td>1 KILO</td>\n",
       "      <td>Tuesday 11:49 08-06-2021</td>\n",
       "    </tr>\n",
       "    <tr>\n",
       "      <th>5</th>\n",
       "      <td>106</td>\n",
       "      <td>patata blanca</td>\n",
       "      <td>Eroski</td>\n",
       "      <td>2.39</td>\n",
       "      <td>1 KILO</td>\n",
       "      <td>Tuesday 11:49 08-06-2021</td>\n",
       "    </tr>\n",
       "  </tbody>\n",
       "</table>\n",
       "</div>"
      ],
      "text/plain": [
       "    id         producto  tienda         precio         unidad  \\\n",
       "0  101  tomate ensalada  Eroski           3,56         1 KILO   \n",
       "1  102  plátano canario  Eroski           2.99         1 KILO   \n",
       "2  103    manzana royal  Eroski  No disponible  No disponible   \n",
       "3  104        calabacín  Eroski           1,90         1 KILO   \n",
       "4  105        zanahoria  Eroski           2,48         1 KILO   \n",
       "5  106    patata blanca  Eroski           2.39         1 KILO   \n",
       "\n",
       "                      fecha  \n",
       "0  Tuesday 11:49 08-06-2021  \n",
       "1  Tuesday 11:49 08-06-2021  \n",
       "2  Tuesday 11:49 08-06-2021  \n",
       "3  Tuesday 11:49 08-06-2021  \n",
       "4  Tuesday 11:49 08-06-2021  \n",
       "5  Tuesday 11:49 08-06-2021  "
      ]
     },
     "execution_count": 37,
     "metadata": {},
     "output_type": "execute_result"
    }
   ],
   "source": [
    "updating_eroski()"
   ]
  },
  {
   "cell_type": "code",
   "execution_count": null,
   "metadata": {},
   "outputs": [],
   "source": []
  }
 ],
 "metadata": {
  "kernelspec": {
   "display_name": "Python [conda env:app_env]",
   "language": "python",
   "name": "conda-env-app_env-py"
  },
  "language_info": {
   "codemirror_mode": {
    "name": "ipython",
    "version": 3
   },
   "file_extension": ".py",
   "mimetype": "text/x-python",
   "name": "python",
   "nbconvert_exporter": "python",
   "pygments_lexer": "ipython3",
   "version": "3.8.8"
  }
 },
 "nbformat": 4,
 "nbformat_minor": 4
}
